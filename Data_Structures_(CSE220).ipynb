{
  "nbformat": 4,
  "nbformat_minor": 0,
  "metadata": {
    "colab": {
      "provenance": [],
      "include_colab_link": true
    },
    "kernelspec": {
      "name": "python3",
      "display_name": "Python 3"
    },
    "language_info": {
      "name": "python"
    }
  },
  "cells": [
    {
      "cell_type": "markdown",
      "metadata": {
        "id": "view-in-github",
        "colab_type": "text"
      },
      "source": [
        "<a href=\"https://colab.research.google.com/github/rafin-noor/Data-Structure/blob/main/Data_Structures_(CSE220).ipynb\" target=\"_parent\"><img src=\"https://colab.research.google.com/assets/colab-badge.svg\" alt=\"Open In Colab\"/></a>"
      ]
    },
    {
      "cell_type": "markdown",
      "source": [
        ".................Linear Array............."
      ],
      "metadata": {
        "id": "utNK45ejFEMV"
      }
    },
    {
      "cell_type": "code",
      "source": [
        "import numpy as np\n",
        "import math"
      ],
      "metadata": {
        "id": "oRWSRcL-fLVR"
      },
      "execution_count": null,
      "outputs": []
    },
    {
      "cell_type": "markdown",
      "source": [
        "Linear Array Assignment 1"
      ],
      "metadata": {
        "id": "I9C-KFPfn9n4"
      }
    },
    {
      "cell_type": "code",
      "source": [
        "#Task 01: Merge Lineup\n",
        "def mergeLineup(pokemon_1, pokemon_2):\n",
        "  merged_arr = np.array([0]*len(pokemon_1))\n",
        "  for i in range(len(pokemon_1)):\n",
        "    if pokemon_1[i]==None:\n",
        "      pokemon_1[i]=0\n",
        "    if pokemon_2[i]==None:\n",
        "      pokemon_2[i]=0\n",
        "  index=len(pokemon_2)-1\n",
        "  j=0\n",
        "  while j<len(pokemon_1):\n",
        "    merged_arr[j]=pokemon_1[j]+pokemon_2[index]\n",
        "    index-=1\n",
        "    j+=1\n",
        "  return merged_arr\n",
        "\n",
        "print(\"///  Task 01: Merge Lineup  ///\")\n",
        "pokemon_1 = np.array([12, 3, 25, 1, None])\n",
        "pokemon_2 = np.array([5, -9, 3, None, None] )\n",
        "returned_value =mergeLineup(pokemon_1, pokemon_2)\n",
        "print(f'Task 1: {returned_value}') # This should print [12, 3, 28, -8, 5]\n",
        "pokemon_1 = np.array([4, 5, -1, None, None])\n",
        "pokemon_2 = np.array([2, 27, 7, 12, None])\n",
        "returned_value =mergeLineup(pokemon_1, pokemon_2)\n",
        "print(f'Task 1: {returned_value}') # This should print [4,17,6,27,2]"
      ],
      "metadata": {
        "id": "53dZ2d9OH4le",
        "colab": {
          "base_uri": "https://localhost:8080/"
        },
        "outputId": "537d405a-909d-4e2c-b9ee-b62c0d2a15c9"
      },
      "execution_count": null,
      "outputs": [
        {
          "output_type": "stream",
          "name": "stdout",
          "text": [
            "///  Task 01: Merge Lineup  ///\n",
            "Task 1: [12  3 28 -8  5]\n",
            "Task 1: [ 4 17  6 27  2]\n"
          ]
        }
      ]
    },
    {
      "cell_type": "code",
      "source": [
        "# Task 02: Discard Cards\n",
        "\n",
        "def discardCards(cards, t):\n",
        "  count=0\n",
        "  i=0\n",
        "  while i<len(cards):\n",
        "    if cards[i]==t:\n",
        "      count+=1\n",
        "      if count%2==1:\n",
        "        cards[i]=0\n",
        "    i+=1\n",
        "  index=0\n",
        "  newarr=np.array([0]*len(cards))\n",
        "  for j in range (len(cards)):\n",
        "    if cards[j]!=0:\n",
        "      newarr[index]=cards[j]\n",
        "      index+=1\n",
        "    else:\n",
        "      continue\n",
        "  return newarr\n",
        "\n",
        "print(\"///  Task 02: Discard Cards  ///\")\n",
        "cards = np.array([1,3,7,2,5,2,2,2,0])\n",
        "returned_value = discardCards(cards, 2)\n",
        "print(f'Task 2: {returned_value}') # This should print [1,3,7,5,2,2,0,0,0]\n",
        "cards = np.array([5,5,5,0,0])\n",
        "returned_value = discardCards(cards, 5)\n",
        "print(f'Task 2: {returned_value}') # This should print [5,0,0,0,0]\n"
      ],
      "metadata": {
        "id": "gLAtWdFhEcQ2",
        "colab": {
          "base_uri": "https://localhost:8080/"
        },
        "outputId": "141f444d-89b2-42a5-c57f-e358a3264428"
      },
      "execution_count": null,
      "outputs": [
        {
          "output_type": "stream",
          "name": "stdout",
          "text": [
            "///  Task 02: Discard Cards  ///\n",
            "Task 2: [1 3 7 5 2 2 0 0 0]\n",
            "Task 2: [5 0 0 0 0]\n"
          ]
        }
      ]
    },
    {
      "cell_type": "code",
      "source": [
        "# Task 03: DUBER Fare Splitting\n",
        "import numpy as np\n",
        "def findGroups(money, fare):\n",
        "  count=0\n",
        "  group_count=0\n",
        "  for i in range(len(money)):\n",
        "    index=i\n",
        "    if money[index]==fare:\n",
        "      group_count+=1\n",
        "      print(f\"Group{group_count}:{money[index]}\")\n",
        "      money[index]=0\n",
        "\n",
        "    for j in range(index+1,len(money)):\n",
        "      if money[index]+money[j]==fare:\n",
        "        group_count+=1\n",
        "        print(f\"Group{group_count}:{money[index]},{money[j]}\")\n",
        "        money[index]=0\n",
        "        money[j]=0\n",
        "  for num in range(len(money)):\n",
        "    if money[num]!=0:\n",
        "      count+=1\n",
        "  newarr=np.zeros(count,dtype=int)\n",
        "  new_index=0\n",
        "  k=0\n",
        "  while k<len(money):\n",
        "    if money[k]!=0:\n",
        "      newarr[new_index]=money[k]\n",
        "      new_index+=1\n",
        "    k+=1\n",
        "  if len(newarr)>0:\n",
        "    print(f\"Ungrouped:{newarr}\")\n",
        "\n",
        "\n",
        "print(\"///  Task 03: DUBER Fare Splitting  ///\")\n",
        "money = np.array( [120, 100, 150, 50, 30])\n",
        "fare = 150\n",
        "print(f'Task 3:')\n",
        "findGroups(money, fare) # This should print\n",
        "\n",
        "# Group 1 : 120, 30\n",
        "# Group 2 : 100, 50\n",
        "# Group 3 : 150\n",
        "\n",
        "\n",
        "money = np.array( [60, 150, 60, 30, 120, 30])\n",
        "fare = 180\n",
        "print(f'Task 3:')\n",
        "findGroups(money, fare) # This should print\n",
        "\n",
        "# Group 1 : 60, 120\n",
        "# Group 2 : 30, 150\n",
        "# Ungrouped : 30 60\n"
      ],
      "metadata": {
        "id": "BsIg1swgEdZJ",
        "colab": {
          "base_uri": "https://localhost:8080/"
        },
        "outputId": "d22f235e-1109-40f0-9868-6e8801602148"
      },
      "execution_count": null,
      "outputs": [
        {
          "output_type": "stream",
          "name": "stdout",
          "text": [
            "///  Task 03: DUBER Fare Splitting  ///\n",
            "Task 3:\n",
            "Group1:120,30\n",
            "Group2:100,50\n",
            "Group3:150\n",
            "Task 3:\n",
            "Group1:60,120\n",
            "Group2:150,30\n",
            "Ungrouped:[60 30]\n"
          ]
        }
      ]
    },
    {
      "cell_type": "code",
      "source": [
        "#Task 04:\n",
        "def analyzeHobbies(* participants): #(* arguments) is used for variable number of parameters\n",
        "  count=0\n",
        "  for i in range(len(participants)):\n",
        "    for j in range(len(participants[i])):\n",
        "      count+=1\n",
        "  newarr=np.array([None]*count)\n",
        "  same_arr=np.array([None]*count)\n",
        "  index=0\n",
        "  for hobby in range(len(participants)):\n",
        "    for activity in  range(len(participants[hobby])):\n",
        "      newarr[index]=participants[hobby][activity]\n",
        "      same_arr[index]=participants[hobby][activity]\n",
        "      index+=1\n",
        "\n",
        "  for m in range(len(newarr)):\n",
        "    for n in range(m+1,len(newarr)):\n",
        "      if newarr[m]==newarr[n]:\n",
        "        newarr[n]=None\n",
        "  new_count=0\n",
        "  for hobbies in range(len(newarr)):\n",
        "    if newarr[hobbies]!=None:\n",
        "      new_count+=1\n",
        "  unique_arr=np.array([None]*new_count)\n",
        "  indx=0\n",
        "  for unq_act in range(len(newarr)):\n",
        "    if newarr[unq_act]!=None:\n",
        "      unique_arr[indx]=newarr[unq_act]\n",
        "      indx+=1\n",
        "  print(\"Unique Activities in the Town:\")\n",
        "  print(unique_arr)\n",
        "\n",
        "  print(\"Statistics:\")\n",
        "  for elements in range(len(unique_arr)):\n",
        "      stat=0\n",
        "      for unique_elements in range(len(same_arr)):\n",
        "        if same_arr[unique_elements]==unique_arr[elements]:\n",
        "          stat+=1\n",
        "      print(f\"{stat} participant(s) like(s) {unique_arr[elements]}.\")\n",
        "\n",
        "  #Print inside the function\n",
        "\n",
        "print(\"///  Task 04: Get Those Hobbies  ///\")\n",
        "participant_1 = np.array( [\"Hiking\", \"Reading\", \"Photography\", \"Cooking\"])\n",
        "participant_2 = np.array( [\"Reading\", \"Hiking\", \"Painting\"])\n",
        "participant_3 = np.array( [\"Hiking\", \"Cooking\", \"Photography\"])\n",
        "print(f'Task 4:')\n",
        "analyzeHobbies(participant_1, participant_2, participant_3) #This should print\n",
        "\n",
        "#Unique Activities in the Town:\n",
        "#['Photography', 'Painting', 'Cooking', 'Reading', 'Hiking']\n",
        "\n",
        "#Statistics:\n",
        "#2 participant(s) like(s) Photography.\n",
        "#1 participant(s) like(s) Painting.\n",
        "#2 participant(s) like(s) Cooking.\n",
        "#2 participant(s) like(s) Reading.\n",
        "#3 participant(s) like(s) Hiking.\n",
        "\n",
        "\n",
        "\n",
        "participant_1 = np.array( [\"Gardening\", \"Traveling\"])\n",
        "participant_2 = np.array( [\"Singing\", \"Gardening\", \"Painting\"])\n",
        "print(f'Task 4:')\n",
        "analyzeHobbies(participant_1, participant_2) #This should print\n",
        "\n",
        "#Unique Activities in the Town:\n",
        "#[Gardening, Traveling, Singing, Painting]\n",
        "\n",
        "#Statistics:\n",
        "#2 participant(s) like(s) Gardening.\n",
        "#1 participant(s) like(s) Traveling.\n",
        "#1 participant(s) like(s) Singing.\n",
        "#1 participant(s) like(s) Painting.\n"
      ],
      "metadata": {
        "id": "rN9YhyCdEsG_",
        "colab": {
          "base_uri": "https://localhost:8080/"
        },
        "outputId": "e87351e5-9ce9-4328-815b-b8ea0c07fe96"
      },
      "execution_count": null,
      "outputs": [
        {
          "output_type": "stream",
          "name": "stdout",
          "text": [
            "///  Task 04: Get Those Hobbies  ///\n",
            "Task 4:\n",
            "Unique Activities in the Town:\n",
            "['Hiking' 'Reading' 'Photography' 'Cooking' 'Painting']\n",
            "Statistics:\n",
            "3 participant(s) like(s) Hiking.\n",
            "2 participant(s) like(s) Reading.\n",
            "2 participant(s) like(s) Photography.\n",
            "2 participant(s) like(s) Cooking.\n",
            "1 participant(s) like(s) Painting.\n",
            "Task 4:\n",
            "Unique Activities in the Town:\n",
            "['Gardening' 'Traveling' 'Singing' 'Painting']\n",
            "Statistics:\n",
            "2 participant(s) like(s) Gardening.\n",
            "1 participant(s) like(s) Traveling.\n",
            "1 participant(s) like(s) Singing.\n",
            "1 participant(s) like(s) Painting.\n"
          ]
        }
      ]
    },
    {
      "cell_type": "code",
      "source": [
        "#Assignment Part-1\n",
        "#Write 3 methods and driver codes for this part.\n",
        "def mean_of_arr(arr):\n",
        "  sum=0\n",
        "  avg=0\n",
        "  num=0\n",
        "  while num<len(arr):\n",
        "    sum+=arr[num]\n",
        "    num+=1\n",
        "  avg=sum/len(arr)\n",
        "  return avg\n",
        "arr=np.array([10, 8, 13, 9, 14, 25, -5, 20, 7, 7, 4])\n",
        "print(mean_of_arr(arr))\n",
        "\n",
        "def standard_deviation(arr):\n",
        "  sd=0\n",
        "  sub=0\n",
        "  ans=0\n",
        "  num=0\n",
        "  while num<len(arr):\n",
        "    sub+=np.power((arr[num]-mean_of_arr(arr)),2)\n",
        "    num+=1\n",
        "  N=len(arr)-1\n",
        "  sd=sub/N\n",
        "  ans=np.sqrt(sd)\n",
        "  return ans\n",
        "arr=np.array([10, 8, 13, 9, 14, 25, -5, 20, 7, 7, 4])\n",
        "print(standard_deviation(arr))\n",
        "\n",
        "def forming_arr(arr):\n",
        "  high_val=mean_of_arr(arr)+1.5*standard_deviation(arr)\n",
        "  low_val=mean_of_arr(arr)-1.5*standard_deviation(arr)\n",
        "  count=0\n",
        "  num=0\n",
        "  while num <len(arr):\n",
        "    if arr[num]>=high_val or arr[num]<=low_val:\n",
        "      count+=1\n",
        "    num+=1\n",
        "  new_arr=np.array([0]*count)\n",
        "  index=0\n",
        "  elements=0\n",
        "  while elements<len(arr):\n",
        "    if arr[elements]>=high_val or arr[elements]<=low_val:\n",
        "      new_arr[index]=arr[elements]\n",
        "      index+=1\n",
        "    elements+=1\n",
        "  return new_arr\n",
        "arr=np.array([10, 8, 13, 9, 14, 25, -5, 20, 7, 7, 4])\n",
        "print(forming_arr(arr))\n"
      ],
      "metadata": {
        "id": "Ya0hUfWqE58V",
        "colab": {
          "base_uri": "https://localhost:8080/"
        },
        "outputId": "e89ec287-8e09-468d-93fd-04a7ddcde55d"
      },
      "execution_count": null,
      "outputs": [
        {
          "output_type": "stream",
          "name": "stdout",
          "text": [
            "10.181818181818182\n",
            "7.960127911260996\n",
            "[25 -5]\n"
          ]
        }
      ]
    },
    {
      "cell_type": "markdown",
      "source": [
        "....................Multi-dimensional Array..............."
      ],
      "metadata": {
        "id": "06JMHk0YNZz7"
      }
    },
    {
      "cell_type": "code",
      "source": [
        "#You must run this cell to print matrix and for the driver code to work\n",
        "def print_matrix(m):\n",
        "  #TO DO\n",
        "  row,col = m.shape\n",
        "  for i in range(row):\n",
        "    c = 1\n",
        "    print('|', end='')\n",
        "    for j in range(col):\n",
        "      c += 1\n",
        "      if(len(str(m[i][j])) == 1):\n",
        "        print(' ',m[i][j], end = '  |')\n",
        "        c += 6\n",
        "      else:\n",
        "        print(' ',m[i][j], end = ' |')\n",
        "        c += 6\n",
        "    print()\n",
        "    print('-'*(c-col))\n"
      ],
      "metadata": {
        "id": "jI7aV2dpFNJd"
      },
      "execution_count": null,
      "outputs": []
    },
    {
      "cell_type": "markdown",
      "source": [
        "Task 1"
      ],
      "metadata": {
        "id": "_yVgBlTNNu0I"
      }
    },
    {
      "cell_type": "code",
      "source": [
        "def walk_zigzag(floor):\n",
        "  #TO DO\n",
        "  r,c=floor.shape\n",
        "  for i in range(c):\n",
        "    if i%2!=0:\n",
        "      for j in range(r-1,-1,-1):\n",
        "        if j%2!=0:\n",
        "          print(floor[j][i],end=\" \")\n",
        "      print()\n",
        "    elif i%2==0:\n",
        "      for j in range(0,r,1):\n",
        "        if j%2==0:\n",
        "         print(floor[j][i],end=\" \")\n",
        "      print()\n",
        "\n",
        "floor = np.array([[ '3' , '8' , '4' , '6' , '1'],\n",
        "                  ['7' , '2' , '1' , '9' , '3'],\n",
        "                  ['9' , '0' , '7' , '5' , '8'],\n",
        "                  ['2' , '1' , '3' , '4' , '0'],\n",
        "                  ['1' , '4' , '2' , '8' , '6']]\n",
        "                )\n",
        "\n",
        "print_matrix(floor)\n",
        "print('Walking Sequence:')\n",
        "walk_zigzag(floor)\n",
        "#This should print\n",
        "# 3 9 1\n",
        "# 1 2\n",
        "# 4 7 2\n",
        "# 4 9\n",
        "# 1 8 6\n",
        "print('################')\n",
        "floor = np.array([[ '3' , '8' , '4' , '6' , '1'],\n",
        "                  ['7' , '2' , '1' , '9' , '3'],\n",
        "                  ['9' , '0' , '7' , '5' , '8'],\n",
        "                  ['2' , '1' , '3' , '4' , '0']]\n",
        "                )\n",
        "\n",
        "print_matrix(floor)\n",
        "print('Walking Sequence:')\n",
        "walk_zigzag(floor)\n",
        "#This should print\n",
        "# 3 9\n",
        "# 1 2\n",
        "# 4 7\n",
        "# 4 9\n",
        "# 1 8"
      ],
      "metadata": {
        "id": "Icj3Cs46Ni52",
        "colab": {
          "base_uri": "https://localhost:8080/"
        },
        "outputId": "aa85503c-e799-49fa-ecf8-1e75f9a4b37b"
      },
      "execution_count": null,
      "outputs": [
        {
          "output_type": "stream",
          "name": "stdout",
          "text": [
            "|  3  |  8  |  4  |  6  |  1  |\n",
            "-------------------------------\n",
            "|  7  |  2  |  1  |  9  |  3  |\n",
            "-------------------------------\n",
            "|  9  |  0  |  7  |  5  |  8  |\n",
            "-------------------------------\n",
            "|  2  |  1  |  3  |  4  |  0  |\n",
            "-------------------------------\n",
            "|  1  |  4  |  2  |  8  |  6  |\n",
            "-------------------------------\n",
            "Walking Sequence:\n",
            "3 9 1 \n",
            "1 2 \n",
            "4 7 2 \n",
            "4 9 \n",
            "1 8 6 \n",
            "################\n",
            "|  3  |  8  |  4  |  6  |  1  |\n",
            "-------------------------------\n",
            "|  7  |  2  |  1  |  9  |  3  |\n",
            "-------------------------------\n",
            "|  9  |  0  |  7  |  5  |  8  |\n",
            "-------------------------------\n",
            "|  2  |  1  |  3  |  4  |  0  |\n",
            "-------------------------------\n",
            "Walking Sequence:\n",
            "3 9 \n",
            "1 2 \n",
            "4 7 \n",
            "4 9 \n",
            "1 8 \n"
          ]
        }
      ]
    },
    {
      "cell_type": "markdown",
      "source": [
        "Task 2"
      ],
      "metadata": {
        "id": "19NDKhycNxdv"
      }
    },
    {
      "cell_type": "code",
      "source": [
        "def row_rotation(exam_week, seat_status):\n",
        "  #TO DO\n",
        "  row,col=seat_status.shape\n",
        "  new_seat=np.array([[None]*col]*row)\n",
        "  c=0\n",
        "  while c<col:\n",
        "    r=row-1\n",
        "    while r>=0:\n",
        "      new_seat[r][c]=seat_status[(r+exam_week+1)%row][c]\n",
        "      r-=1\n",
        "    c+=1\n",
        "  print(new_seat)\n",
        "  position=0\n",
        "  for j in range(col):\n",
        "    for k in range(row):\n",
        "      if new_seat[k][j]=='AA':\n",
        "        position=k+1\n",
        "  return position\n",
        "\n",
        "\n",
        "seat_status = np.array([[ 'A' , 'B' , 'C' , 'D' , 'E'],\n",
        "                  ['F' , 'G' , 'H' , 'I' , 'J'],\n",
        "                  ['K' , 'L' , 'M' , 'N' , 'O'],\n",
        "                  ['P' , 'Q' , 'R' , 'S' , 'T'],\n",
        "                  ['U' , 'V' , 'W' , 'X' , 'Y'],\n",
        "                  ['Z' , 'AA' , 'BB' , 'CC' , 'DD']])\n",
        "exam_week=3\n",
        "print_matrix(seat_status)\n",
        "print()\n",
        "row_number=row_rotation(exam_week, seat_status) #This should print modified seat status after rotation\n",
        "print(f'Your friend AA will be on row {row_number}') #This should print Your friend AA will be on row 2"
      ],
      "metadata": {
        "id": "Twb1uF-UNrOq",
        "colab": {
          "base_uri": "https://localhost:8080/"
        },
        "outputId": "1f3d53cf-cfa0-4e58-d611-7af39d5ad47f"
      },
      "execution_count": null,
      "outputs": [
        {
          "output_type": "stream",
          "name": "stdout",
          "text": [
            "|  A  |  B  |  C  |  D  |  E  |\n",
            "-------------------------------\n",
            "|  F  |  G  |  H  |  I  |  J  |\n",
            "-------------------------------\n",
            "|  K  |  L  |  M  |  N  |  O  |\n",
            "-------------------------------\n",
            "|  P  |  Q  |  R  |  S  |  T  |\n",
            "-------------------------------\n",
            "|  U  |  V  |  W  |  X  |  Y  |\n",
            "-------------------------------\n",
            "|  Z  |  AA |  BB |  CC |  DD |\n",
            "-------------------------------\n",
            "\n",
            "[['U' 'V' 'W' 'X' 'Y']\n",
            " ['Z' 'AA' 'BB' 'CC' 'DD']\n",
            " ['A' 'B' 'C' 'D' 'E']\n",
            " ['F' 'G' 'H' 'I' 'J']\n",
            " ['K' 'L' 'M' 'N' 'O']\n",
            " ['P' 'Q' 'R' 'S' 'T']]\n",
            "Your friend AA will be on row 2\n"
          ]
        }
      ]
    },
    {
      "cell_type": "markdown",
      "source": [
        "Task 3"
      ],
      "metadata": {
        "id": "NnlOibDMN4yo"
      }
    },
    {
      "cell_type": "code",
      "source": [
        "def reverse_Matrix(matrix):\n",
        "  #TO DO\n",
        "  r,c=matrix.shape\n",
        "  arr=np.zeros((r,c),dtype=int)\n",
        "  i=0\n",
        "  while i<r:\n",
        "    j=0\n",
        "    while j<c:\n",
        "      arr[r-1-i][j]=matrix[i][c-1-j]\n",
        "      j+=1\n",
        "    i+=1\n",
        "  return arr\n",
        "\n",
        "\n",
        "matrix = np.array([\n",
        "[14,  8,  0,  4],\n",
        "[9,  8,  13,  13],\n",
        "[9,  3,  1,  4],\n",
        "[2,  10,  13,  6]\n",
        "])\n",
        "print_matrix(matrix)\n",
        "print('################')\n",
        "print()\n",
        "reversed_matrix = reverse_Matrix(matrix)\n",
        "print_matrix(reversed_matrix)\n",
        "\n",
        "#This should print\n",
        "#|  6  |  13 |  10 |  2  |\n",
        "#-------------------------\n",
        "#|  4  |  1  |  3  |  9  |\n",
        "#-------------------------\n",
        "#|  13  |  13  |  8 |  9 |\n",
        "#-------------------------\n",
        "#|  4 |  0  |  8  |  14  |\n",
        "#-------------------------\n"
      ],
      "metadata": {
        "id": "72NygOeJN3Jb",
        "colab": {
          "base_uri": "https://localhost:8080/"
        },
        "outputId": "81f04a9f-47d8-4dc0-a996-b83377022f9e"
      },
      "execution_count": null,
      "outputs": [
        {
          "output_type": "stream",
          "name": "stdout",
          "text": [
            "|  14 |  8  |  0  |  4  |\n",
            "-------------------------\n",
            "|  9  |  8  |  13 |  13 |\n",
            "-------------------------\n",
            "|  9  |  3  |  1  |  4  |\n",
            "-------------------------\n",
            "|  2  |  10 |  13 |  6  |\n",
            "-------------------------\n",
            "################\n",
            "\n",
            "|  6  |  13 |  10 |  2  |\n",
            "-------------------------\n",
            "|  4  |  1  |  3  |  9  |\n",
            "-------------------------\n",
            "|  13 |  13 |  8  |  9  |\n",
            "-------------------------\n",
            "|  4  |  0  |  8  |  14 |\n",
            "-------------------------\n"
          ]
        }
      ]
    },
    {
      "cell_type": "markdown",
      "source": [
        "Task 4"
      ],
      "metadata": {
        "id": "Yf9GX98uOCaH"
      }
    },
    {
      "cell_type": "code",
      "source": [
        "def show_knight_move(knight):\n",
        "  #To Do\n",
        "  var1,var2=knight\n",
        "  chess_arr=np.zeros((8,8),dtype=int)\n",
        "  chess_arr[var1][var2]=66\n",
        "  knight_arr=np.array([[2,1],[2,-1],[-2,1],[-2,-1],[1,2],[1,-2],[-1,2],[-1,-2]])\n",
        "  r=0\n",
        "  while r<len(knight_arr):\n",
        "    row=var1+knight_arr[r][0]\n",
        "    col=var2+knight_arr[r][1]\n",
        "    if 0<=row<8:\n",
        "      if 0<=col<8:\n",
        "        chess_arr[row][col]=3\n",
        "    r+=1\n",
        "  return chess_arr\n",
        "\n",
        "\n",
        "knight = (3,4)\n",
        "chess_board = show_knight_move(knight)\n",
        "print_matrix(chess_board)\n",
        "#This Should print\n",
        "#| 0 | 0 | 0 | 0 | 0 | 0 | 0 | 0 |\n",
        "#------------------------------------------\n",
        "#| 0 | 0 | 0 | 3 | 0 | 3 | 0 | 0 |\n",
        "#------------------------------------------\n",
        "#| 0 | 0 | 3 | 0 | 0 | 0 | 3 | 0 |\n",
        "#------------------------------------------\n",
        "#| 0 | 0 | 0 | 0 | 66 | 0 | 0 | 0 |\n",
        "#------------------------------------------\n",
        "#| 0 | 0 | 3 | 0 | 0 | 0 | 3 | 0 |\n",
        "#------------------------------------------\n",
        "#| 0 | 0 | 0 | 3 | 0 | 3 | 0 | 0 |\n",
        "#------------------------------------------\n",
        "#| 0 | 0 | 0 | 0 | 0 | 0 | 0 | 0 |\n",
        "#------------------------------------------\n",
        "#| 0 | 0 | 0 | 0 | 0 | 0 | 0 | 0 |\n",
        "#-----------------------------------------"
      ],
      "metadata": {
        "id": "oZfGzVSzOAgk",
        "colab": {
          "base_uri": "https://localhost:8080/"
        },
        "outputId": "e187df17-83bf-40c6-fdb1-5319304be4ee"
      },
      "execution_count": null,
      "outputs": [
        {
          "output_type": "stream",
          "name": "stdout",
          "text": [
            "|  0  |  0  |  0  |  0  |  0  |  0  |  0  |  0  |\n",
            "-------------------------------------------------\n",
            "|  0  |  0  |  0  |  3  |  0  |  3  |  0  |  0  |\n",
            "-------------------------------------------------\n",
            "|  0  |  0  |  3  |  0  |  0  |  0  |  3  |  0  |\n",
            "-------------------------------------------------\n",
            "|  0  |  0  |  0  |  0  |  66 |  0  |  0  |  0  |\n",
            "-------------------------------------------------\n",
            "|  0  |  0  |  3  |  0  |  0  |  0  |  3  |  0  |\n",
            "-------------------------------------------------\n",
            "|  0  |  0  |  0  |  3  |  0  |  3  |  0  |  0  |\n",
            "-------------------------------------------------\n",
            "|  0  |  0  |  0  |  0  |  0  |  0  |  0  |  0  |\n",
            "-------------------------------------------------\n",
            "|  0  |  0  |  0  |  0  |  0  |  0  |  0  |  0  |\n",
            "-------------------------------------------------\n"
          ]
        }
      ]
    },
    {
      "cell_type": "markdown",
      "source": [
        "Task 5"
      ],
      "metadata": {
        "id": "4rnVzoVIOKhg"
      }
    },
    {
      "cell_type": "code",
      "source": [
        "def compress_matrix(mat):\n",
        "  #TO DO\n",
        "  r,c=mat.shape\n",
        "  cmp_arr=np.zeros((r//2,c//2),dtype=int)\n",
        "  row=0\n",
        "  for i in range(0,r,2):\n",
        "    col=0\n",
        "    for j in range(0,c,2):\n",
        "      var1=mat[i][j]+mat[i][j+1]\n",
        "      var2=mat[i+1][j]+mat[i+1][j+1]\n",
        "      cmp_arr[row][col]=var1+var2\n",
        "      col+=1\n",
        "    row+=1\n",
        "  return cmp_arr\n",
        "matrix=np.array([[1,2,3,4],\n",
        "                 [5,6,7,8],\n",
        "                 [1,3,5,2],\n",
        "                 [-2,0,6,-3]\n",
        "                 ])\n",
        "print_matrix(matrix)\n",
        "print('################')\n",
        "print()\n",
        "returned_array=compress_matrix(matrix)\n",
        "print_matrix(returned_array)\n",
        "#This should print\n",
        "#|  14  |  22 |\n",
        "#--------------\n",
        "#|  2  |  10  |\n",
        "#--------------"
      ],
      "metadata": {
        "id": "RJ9bA6q3OGwA",
        "colab": {
          "base_uri": "https://localhost:8080/"
        },
        "outputId": "c20db92a-0793-4d88-b9ee-0d0587fa89cb"
      },
      "execution_count": null,
      "outputs": [
        {
          "output_type": "stream",
          "name": "stdout",
          "text": [
            "|  1  |  2  |  3  |  4  |\n",
            "-------------------------\n",
            "|  5  |  6  |  7  |  8  |\n",
            "-------------------------\n",
            "|  1  |  3  |  5  |  2  |\n",
            "-------------------------\n",
            "|  -2 |  0  |  6  |  -3 |\n",
            "-------------------------\n",
            "################\n",
            "\n",
            "|  14 |  22 |\n",
            "-------------\n",
            "|  2  |  10 |\n",
            "-------------\n"
          ]
        }
      ]
    },
    {
      "cell_type": "markdown",
      "source": [
        "Task 6"
      ],
      "metadata": {
        "id": "aQEMOuBFOTES"
      }
    },
    {
      "cell_type": "code",
      "source": [
        "def play_game(arena):\n",
        "  #TO DO\n",
        "  total=0\n",
        "  row,col=arena.shape\n",
        "  value=50\n",
        "  for c in range(col):\n",
        "    for r in range(row):\n",
        "      if arena[r][c]!=0:\n",
        "        if arena[r][c]%value==0:\n",
        "          if c!=col-1:\n",
        "            if arena[r][c+1]==2: #right\n",
        "              total+=2\n",
        "          if r!=row-1:\n",
        "            if arena[r+1][c]==2: #down\n",
        "              total+=2\n",
        "          if r!=0:\n",
        "            if arena[r-1][c]==2:  #up\n",
        "              total+=2\n",
        "          if c!=0:\n",
        "            if arena[r][c-1]==2: #left\n",
        "              total+=2\n",
        "  if total>=10:\n",
        "    print(f\"Points Gained: {total}. Your team has survived the game.\")\n",
        "  else:\n",
        "    print(f\"Points Gained: {total}. Your team is out.\")\n",
        "\n",
        "arena=np.array([[0,2,2,0],\n",
        "                [50,1,2,0],\n",
        "                [2,2,2,0],\n",
        "                [1,100,2,0]\n",
        "                ])\n",
        "print_matrix(arena)\n",
        "play_game(arena)\n",
        "#This should print\n",
        "#Points Gained: 6. Your team is out.\n",
        "\n",
        "print(\".....................\")\n",
        "arena=np.array([[0,2,2,0,2],\n",
        "                [1,50,2,1,100],\n",
        "                [2,2,2,0,2],\n",
        "                [0,200,2,0,0]\n",
        "                ])\n",
        "print_matrix(arena)\n",
        "play_game(arena)\n",
        "#This should print\n",
        "#Points Gained: 14. Your team has survived the game.\n"
      ],
      "metadata": {
        "id": "CV-KlF5zOQf0",
        "colab": {
          "base_uri": "https://localhost:8080/"
        },
        "outputId": "d7abd1de-d024-417b-e662-11a8e99bcd4b"
      },
      "execution_count": null,
      "outputs": [
        {
          "output_type": "stream",
          "name": "stdout",
          "text": [
            "|  0  |  2  |  2  |  0  |\n",
            "-------------------------\n",
            "|  50 |  1  |  2  |  0  |\n",
            "-------------------------\n",
            "|  2  |  2  |  2  |  0  |\n",
            "-------------------------\n",
            "|  1  |  100 |  2  |  0  |\n",
            "-------------------------\n",
            "Points Gained: 6. Your team is out.\n",
            ".....................\n",
            "|  0  |  2  |  2  |  0  |  2  |\n",
            "-------------------------------\n",
            "|  1  |  50 |  2  |  1  |  100 |\n",
            "-------------------------------\n",
            "|  2  |  2  |  2  |  0  |  2  |\n",
            "-------------------------------\n",
            "|  0  |  200 |  2  |  0  |  0  |\n",
            "-------------------------------\n",
            "Points Gained: 14. Your team has survived the game.\n"
          ]
        }
      ]
    },
    {
      "cell_type": "markdown",
      "source": [
        "Bonus Task"
      ],
      "metadata": {
        "id": "INQx_ANFObhL"
      }
    },
    {
      "cell_type": "code",
      "source": [
        "def check_Diagonal(matrix1, matrix2):\n",
        "  #TO DO\n",
        "  r,c=matrix2.shape\n",
        "  r1,c1=matrix1.shape\n",
        "  count=0\n",
        "  if (r1,c1)>=(3,3) and (r1,c1)==(r,c):\n",
        "    for index in range(c-1,-1,-1):\n",
        "      if matrix2[index][index]==matrix1[r-1-index][index]:\n",
        "        count+=1\n",
        "      else:\n",
        "        count-=1\n",
        "    if count==r:\n",
        "      print(\"YES\")\n",
        "    else:\n",
        "      print(\"NO\")\n",
        "\n",
        "array1 = np.array([[0, 4, 1], [7, 2, 5], [3, 6, 0]])\n",
        "array2 = np.array([[3, 6, 0], [5, 2, 7], [0, 4, 1]])\n",
        "\n",
        "check_Diagonal(array1, array2) #This should print YES\n",
        "print(\".............\")\n",
        "array1 = np.array([[0, 9, 9, 1], [9, 0, 2, 9], [9, 3, 0, 9], [4, 9, 9, 0]])\n",
        "array2 = np.array([[4, 9, 9, 0], [9, 0, 3, 9], [9, 0, 2, 9], [0, 9, 5, 1]])\n",
        "\n",
        "check_Diagonal (array1, array2) #This should print NO\n"
      ],
      "metadata": {
        "id": "7_6p16ExOZSo",
        "colab": {
          "base_uri": "https://localhost:8080/"
        },
        "outputId": "8a896d02-f4e0-42ce-9b6b-4220c59f9326"
      },
      "execution_count": null,
      "outputs": [
        {
          "output_type": "stream",
          "name": "stdout",
          "text": [
            "YES\n",
            ".............\n",
            "NO\n"
          ]
        }
      ]
    },
    {
      "cell_type": "markdown",
      "source": [
        "..................Linked List........................."
      ],
      "metadata": {
        "id": "gmzggp-dPf-M"
      }
    },
    {
      "cell_type": "code",
      "source": [
        "#Run this cell\n",
        "class Node:\n",
        "  def __init__(self,elem,next = None):\n",
        "    self.elem,self.next = elem,next\n",
        "\n",
        "def createList(arr):\n",
        "  head = Node(arr[0])\n",
        "  tail = head\n",
        "  for i in range(1,len(arr)):\n",
        "    newNode = Node(arr[i])\n",
        "    tail.next = newNode\n",
        "    tail = newNode\n",
        "  return head\n",
        "\n",
        "def printLinkedList(head):\n",
        "  temp = head\n",
        "  while temp != None:\n",
        "    if temp.next != None:\n",
        "      print(temp.elem, end = '-->')\n",
        "    else:\n",
        "      print(temp.elem)\n",
        "    temp = temp.next\n",
        "  print()"
      ],
      "metadata": {
        "id": "F3U-rup7PfZi"
      },
      "execution_count": null,
      "outputs": []
    },
    {
      "cell_type": "code",
      "source": [
        "def nodeAt(head,idx):\n",
        "  count = 0\n",
        "  temp1 = head\n",
        "  obj_adrs = None\n",
        "  while temp1 != None:\n",
        "    if count == idx:\n",
        "      obj_adrs = temp1\n",
        "      break\n",
        "    count += 1\n",
        "    temp1= temp1.next\n",
        "  if obj_adrs is None:\n",
        "    print(\"Invalid Index\")\n",
        "  return obj_adrs\n",
        "\n",
        "def Count_length(head):\n",
        "  num_count = 0\n",
        "  temp1 = head\n",
        "  while temp1 != None:\n",
        "    num_count += 1\n",
        "    temp1 = temp1.next\n",
        "  return num_count"
      ],
      "metadata": {
        "id": "16FK8lnMPumV"
      },
      "execution_count": null,
      "outputs": []
    },
    {
      "cell_type": "markdown",
      "source": [
        "Task 1"
      ],
      "metadata": {
        "id": "03y8-Jo7P3PM"
      }
    },
    {
      "cell_type": "code",
      "source": [
        "def check_similar(building_1, building_2):\n",
        "  #TO DO\n",
        "  link1=building_1\n",
        "  link2=building_2\n",
        "  if Count_length(link1)==Count_length(link2):\n",
        "    if link1.elem!=link2.elem:\n",
        "      return \"Not Similar\"\n",
        "    else:\n",
        "      while link1!=None:\n",
        "        if link1.elem==link2.elem:\n",
        "          link1=link1.next\n",
        "          link2=link2.next\n",
        "        else:\n",
        "          return \"Not similar\"\n",
        "          break\n",
        "      return \"Similar\"\n",
        "  else:\n",
        "    return \"Not Similar\"\n",
        "\n",
        "\n",
        "print('==============Test Case 1=============')\n",
        "building_1 = createList(np.array(['Red', 'Green', 'Yellow', 'Red', 'Blue', 'Green']))\n",
        "building_2 = createList(np.array(['Red', 'Green', 'Yellow', 'Red', 'Blue', 'Green']))\n",
        "print('Building 1: ', end = ' ')\n",
        "printLinkedList(building_1)\n",
        "print('Building 2: ', end = ' ')\n",
        "printLinkedList(building_2)\n",
        "returned_value = check_similar(building_1, building_2)\n",
        "print(returned_value) #This should print 'Similar'\n",
        "print()\n",
        "print('==============Test Case 2=============')\n",
        "building_1 = createList(np.array(['Red', 'Green', 'Yellow', 'Red', 'Yellow', 'Green']))\n",
        "building_2 = createList(np.array(['Red', 'Green', 'Yellow', 'Red', 'Blue', 'Green']))\n",
        "print('Building 1: ', end = ' ')\n",
        "printLinkedList(building_1)\n",
        "print('Building 2: ', end = ' ')\n",
        "printLinkedList(building_2)\n",
        "returned_value = check_similar(building_1, building_2)\n",
        "print(returned_value) #This should print 'Not Similar'\n",
        "print()\n",
        "print('==============Test Case 3=============')\n",
        "building_1 = createList(np.array(['Red', 'Green', 'Yellow', 'Red', 'Blue', 'Green']))\n",
        "building_2 = createList(np.array(['Red', 'Green', 'Yellow', 'Red', 'Blue', 'Green', 'Blue']))\n",
        "print('Building 1: ', end = ' ')\n",
        "printLinkedList(building_1)\n",
        "print('Building 2: ', end = ' ')\n",
        "printLinkedList(building_2)\n",
        "returned_value = check_similar(building_1, building_2)\n",
        "print(returned_value) #This should print 'Not Similar'\n",
        "print()\n",
        "print('==============Test Case 4=============')\n",
        "building_1 = createList(np.array(['Red', 'Green', 'Yellow', 'Red', 'Blue', 'Green', 'Blue']))\n",
        "building_2 = createList(np.array(['Red', 'Green', 'Yellow', 'Red', 'Blue', 'Green']))\n",
        "print('Building 1: ', end = ' ')\n",
        "printLinkedList(building_1)\n",
        "print('Building 2: ', end = ' ')\n",
        "printLinkedList(building_2)\n",
        "returned_value = check_similar(building_1, building_2)\n",
        "print(returned_value) #This should print 'Not Similar'\n",
        "print()"
      ],
      "metadata": {
        "id": "Hd5WahCEP1Ss",
        "colab": {
          "base_uri": "https://localhost:8080/"
        },
        "outputId": "e8976d55-14bb-4c9a-9499-7bf4886417f9"
      },
      "execution_count": null,
      "outputs": [
        {
          "output_type": "stream",
          "name": "stdout",
          "text": [
            "==============Test Case 1=============\n",
            "Building 1:  Red-->Green-->Yellow-->Red-->Blue-->Green\n",
            "\n",
            "Building 2:  Red-->Green-->Yellow-->Red-->Blue-->Green\n",
            "\n",
            "Similar\n",
            "\n",
            "==============Test Case 2=============\n",
            "Building 1:  Red-->Green-->Yellow-->Red-->Yellow-->Green\n",
            "\n",
            "Building 2:  Red-->Green-->Yellow-->Red-->Blue-->Green\n",
            "\n",
            "Not similar\n",
            "\n",
            "==============Test Case 3=============\n",
            "Building 1:  Red-->Green-->Yellow-->Red-->Blue-->Green\n",
            "\n",
            "Building 2:  Red-->Green-->Yellow-->Red-->Blue-->Green-->Blue\n",
            "\n",
            "Not Similar\n",
            "\n",
            "==============Test Case 4=============\n",
            "Building 1:  Red-->Green-->Yellow-->Red-->Blue-->Green-->Blue\n",
            "\n",
            "Building 2:  Red-->Green-->Yellow-->Red-->Blue-->Green\n",
            "\n",
            "Not Similar\n",
            "\n"
          ]
        }
      ]
    },
    {
      "cell_type": "markdown",
      "source": [
        "Task 2"
      ],
      "metadata": {
        "id": "rmTqOsa0QAGh"
      }
    },
    {
      "cell_type": "code",
      "source": [
        "def remove_compartment(head,n):\n",
        "  #TO DO\n",
        "  total=Count_length(head)\n",
        "  if 1<=n<total:\n",
        "    new=nodeAt(head,total-n-1)\n",
        "    rem_node=new.next\n",
        "    new.next=rem_node.next\n",
        "  elif n==total:\n",
        "    head=head.next\n",
        "  return head\n",
        "\n",
        "print('==============Test Case 1=============')\n",
        "head = createList(np.array([10,15,34,41,56,72]))\n",
        "print('Original Compartment Sequence: ', end = ' ')\n",
        "printLinkedList(head)\n",
        "head = remove_compartment(head,2)\n",
        "print('Changed Compartment Sequence: ', end = ' ')\n",
        "printLinkedList(head) #This should print 10-->15-->34-->41-->72\n",
        "print()\n",
        "print('==============Test Case 2=============')\n",
        "head = createList(np.array([10,15,34,41,56,72]))\n",
        "print('Original Compartment Sequence: ', end = ' ')\n",
        "printLinkedList(head)\n",
        "head = remove_compartment(head,7)\n",
        "print('Changed Compartment Sequence: ', end = ' ')\n",
        "printLinkedList(head) #This should print 10-->15-->34-->41-->56-->72\n",
        "print()\n",
        "print('==============Test Case 3=============')\n",
        "head = createList(np.array([10,15,34,41,56,72]))\n",
        "print('Original Compartment Sequence: ', end = ' ')\n",
        "printLinkedList(head)\n",
        "head = remove_compartment(head,6)\n",
        "print('Changed Compartment Sequence: ', end = ' ')\n",
        "printLinkedList(head) #This should print 15-->34-->41-->56-->72\n",
        "print()"
      ],
      "metadata": {
        "id": "DzD3nQs4P-za",
        "colab": {
          "base_uri": "https://localhost:8080/"
        },
        "outputId": "c4e33810-b84e-46f8-b36f-6221f51ef3b5"
      },
      "execution_count": null,
      "outputs": [
        {
          "output_type": "stream",
          "name": "stdout",
          "text": [
            "==============Test Case 1=============\n",
            "Original Compartment Sequence:  10-->15-->34-->41-->56-->72\n",
            "\n",
            "Changed Compartment Sequence:  10-->15-->34-->41-->72\n",
            "\n",
            "\n",
            "==============Test Case 2=============\n",
            "Original Compartment Sequence:  10-->15-->34-->41-->56-->72\n",
            "\n",
            "Changed Compartment Sequence:  10-->15-->34-->41-->56-->72\n",
            "\n",
            "\n",
            "==============Test Case 3=============\n",
            "Original Compartment Sequence:  10-->15-->34-->41-->56-->72\n",
            "\n",
            "Changed Compartment Sequence:  15-->34-->41-->56-->72\n",
            "\n",
            "\n"
          ]
        }
      ]
    },
    {
      "cell_type": "markdown",
      "source": [
        "Task 3"
      ],
      "metadata": {
        "id": "64drKk44QHaf"
      }
    },
    {
      "cell_type": "code",
      "source": [
        "def assemble_conga_line(conga_line):\n",
        "  #TO DO\n",
        "  temp=conga_line\n",
        "  while temp!=None:\n",
        "    if temp.elem<temp.next.elem:\n",
        "      temp=temp.next\n",
        "      if temp.next==None:\n",
        "        break\n",
        "    else:\n",
        "      return False\n",
        "      break\n",
        "  return True\n",
        "\n",
        "print('==============Test Case 1=============')\n",
        "conga_line = createList(np.array([10,15,34,41,56,72]))\n",
        "print('Original Conga Line: ', end = ' ')\n",
        "printLinkedList(conga_line)\n",
        "returned_value = assemble_conga_line(conga_line)\n",
        "print(returned_value) #This should print True\n",
        "print()\n",
        "print('==============Test Case 2=============')\n",
        "conga_line = createList(np.array([10,15,44,41,56,72]))\n",
        "print('Original Conga Line: ', end = ' ')\n",
        "printLinkedList(conga_line)\n",
        "returned_value = assemble_conga_line(conga_line)\n",
        "print(returned_value) #This should print False\n",
        "print()"
      ],
      "metadata": {
        "id": "bUtBhr32QGIr",
        "colab": {
          "base_uri": "https://localhost:8080/"
        },
        "outputId": "274f6e30-3f46-41ce-a833-6d650bbf4f57"
      },
      "execution_count": null,
      "outputs": [
        {
          "output_type": "stream",
          "name": "stdout",
          "text": [
            "==============Test Case 1=============\n",
            "Original Conga Line:  10-->15-->34-->41-->56-->72\n",
            "\n",
            "True\n",
            "\n",
            "==============Test Case 2=============\n",
            "Original Conga Line:  10-->15-->44-->41-->56-->72\n",
            "\n",
            "False\n",
            "\n"
          ]
        }
      ]
    },
    {
      "cell_type": "markdown",
      "source": [
        "Task 4"
      ],
      "metadata": {
        "id": "K1bE4P_VQOEi"
      }
    },
    {
      "cell_type": "code",
      "source": [
        "def word_Decoder(head):\n",
        "  count  = 0\n",
        "  temp = head\n",
        "  while temp != None:\n",
        "    count += 1\n",
        "    temp = temp.next\n",
        "  x = 13 % count\n",
        "  dmh=Node(None)\n",
        "  for idx in range(x, count, x):\n",
        "    current_node = nodeAt(head,idx)\n",
        "    new_node=Node(current_node.elem)\n",
        "    new_node.next=dmh.next\n",
        "    dmh.next=new_node\n",
        "  return dmh\n",
        "\n",
        "#Driver Code\n",
        "print('==============Test Case 1=============')\n",
        "head = createList(np.array(['B', 'M', 'D', 'T', 'N', 'O', 'A', 'P', 'S', 'C']))\n",
        "print(\"Encoded Word:\")\n",
        "printLinkedList(head) #This should print B→M→D→T→N→O→A→P→S→C\n",
        "result = word_Decoder(head)\n",
        "print(\"Decoded Word:\")\n",
        "printLinkedList(result)    #This should print None→C→A→T\n",
        "print('==============Test Case 2=============')\n",
        "head = createList(np.array(['Z', 'O', 'T', 'N', 'X']))\n",
        "print(\"Encoded Word:\")\n",
        "printLinkedList(head) #This should print Z→O→T→N→X\n",
        "result = word_Decoder(head)\n",
        "print(\"Decoded Word:\")\n",
        "printLinkedList(result)    #This should print None→N\n",
        "\n"
      ],
      "metadata": {
        "id": "Sr4guW29QMNs",
        "colab": {
          "base_uri": "https://localhost:8080/"
        },
        "outputId": "b8ebaeed-9c93-4fa4-ce9d-ca711a887349"
      },
      "execution_count": null,
      "outputs": [
        {
          "output_type": "stream",
          "name": "stdout",
          "text": [
            "==============Test Case 1=============\n",
            "Encoded Word:\n",
            "B-->M-->D-->T-->N-->O-->A-->P-->S-->C\n",
            "\n",
            "Decoded Word:\n",
            "None-->C-->A-->T\n",
            "\n",
            "==============Test Case 2=============\n",
            "Encoded Word:\n",
            "Z-->O-->T-->N-->X\n",
            "\n",
            "Decoded Word:\n",
            "None-->N\n",
            "\n"
          ]
        }
      ]
    },
    {
      "cell_type": "markdown",
      "source": [
        "Task 5"
      ],
      "metadata": {
        "id": "BTHcTPY8QVBO"
      }
    },
    {
      "cell_type": "code",
      "source": [
        "def alternate_merge(head1, head2):\n",
        "  #TO DO\n",
        "  temp1=head1\n",
        "  temp2=head2\n",
        "  ml_head=Node(head1.elem,None)\n",
        "  ml_tail=ml_head\n",
        "  counter=0\n",
        "  while temp1!=None and temp2!=None:\n",
        "    if counter%2!=0:\n",
        "      new_node=Node(temp1.elem,None)\n",
        "      ml_tail.next=new_node\n",
        "      ml_tail=ml_tail.next\n",
        "      counter+=1\n",
        "      temp2=temp2.next\n",
        "    else:\n",
        "      new_node = Node(temp2.elem,None)\n",
        "      ml_tail.next=new_node\n",
        "      ml_tail=ml_tail.next\n",
        "      counter+=1\n",
        "      temp1=temp1.next\n",
        "  return ml_head\n",
        "\n",
        "print('==============Test Case 1=============')\n",
        "head1 = createList(np.array([1,2,6,8,11]))\n",
        "head2 = createList(np.array([5,7,3,9,4]))\n",
        "\n",
        "print(\"Linked List 1:\")\n",
        "printLinkedList(head1)\n",
        "print(\"Linked List 2:\")\n",
        "printLinkedList(head2)\n",
        "\n",
        "head = alternate_merge(head1, head2)\n",
        "print(\"Merged Linked List:\")\n",
        "printLinkedList(head)    #This should print    1 --> 5 --> 2 --> 7 --> 6 --> 3 --> 8 --> 9 --> 11 --> 4\n",
        "\n",
        "\n",
        "print('==============Test Case 2=============')\n",
        "head1 = createList(np.array([5, 3, 2, -4]))\n",
        "head2 = createList(np.array([-4, -6, 1]))\n",
        "\n",
        "print(\"Linked List 1:\")\n",
        "printLinkedList(head1)\n",
        "print(\"Linked List 2:\")\n",
        "printLinkedList(head2)\n",
        "\n",
        "head = alternate_merge(head1, head2)\n",
        "print(\"Merged Linked List:\")\n",
        "printLinkedList(head)    #This should print    5 → -4 -> 3 → -6 -> 2 -> 1 -> -4\n",
        "\n",
        "\n",
        "print('==============Test Case 3=============')\n",
        "head1 = createList(np.array([4, 2, -2, -4]))\n",
        "head2 = createList(np.array([8, 6, 5, -3]))\n",
        "\n",
        "print(\"Linked List 1:\")\n",
        "printLinkedList(head1)\n",
        "print(\"Linked List 2:\")\n",
        "printLinkedList(head2)\n",
        "\n",
        "head = alternate_merge(head1, head2)\n",
        "print(\"Merged Linked List:\")\n",
        "printLinkedList(head)    #This should print   4-> 8 → 2-> 6 → -2 → 5 → -4 -> -3\n"
      ],
      "metadata": {
        "id": "G5MhoyHEQTpG",
        "colab": {
          "base_uri": "https://localhost:8080/"
        },
        "outputId": "0eb8fa77-c186-4c78-a514-53b7fba20edf"
      },
      "execution_count": null,
      "outputs": [
        {
          "output_type": "stream",
          "name": "stdout",
          "text": [
            "==============Test Case 1=============\n",
            "Linked List 1:\n",
            "1-->2-->6-->8-->11\n",
            "\n",
            "Linked List 2:\n",
            "5-->7-->3-->9-->4\n",
            "\n",
            "Merged Linked List:\n",
            "1-->5-->2-->7-->6-->3-->8-->9-->11-->4\n",
            "\n",
            "==============Test Case 2=============\n",
            "Linked List 1:\n",
            "5-->3-->2-->-4\n",
            "\n",
            "Linked List 2:\n",
            "-4-->-6-->1\n",
            "\n",
            "Merged Linked List:\n",
            "5-->-4-->3-->-6-->2-->1-->-4\n",
            "\n",
            "==============Test Case 3=============\n",
            "Linked List 1:\n",
            "4-->2-->-2-->-4\n",
            "\n",
            "Linked List 2:\n",
            "8-->6-->5-->-3\n",
            "\n",
            "Merged Linked List:\n",
            "4-->8-->2-->6-->-2-->5-->-4-->-3\n",
            "\n"
          ]
        }
      ]
    },
    {
      "cell_type": "markdown",
      "source": [
        "Task 6"
      ],
      "metadata": {
        "id": "DQhj-gl2QbBt"
      }
    },
    {
      "cell_type": "code",
      "source": [
        "def sum_dist(head, arr):\n",
        "  #TO DO\n",
        "  total=0\n",
        "  for index in range(len(dist)):\n",
        "    var=nodeAt(head,arr[index])\n",
        "    if var!=None:\n",
        "      total+=var.elem\n",
        "    else:\n",
        "      pass\n",
        "  return total\n",
        "\n",
        "\n",
        "\n",
        "print('==============Test Case 1=============')\n",
        "LL1 = createList(np.array([10,16,-5,9,3,4]))\n",
        "dist = np.array([2,0,5,2,8])\n",
        "returned_value = sum_dist(LL1, dist)\n",
        "print(f'Sum of Nodes: {returned_value}') #This should print Sum of Nodes: 4\n",
        "print()"
      ],
      "metadata": {
        "id": "CRuATnP4QZ8o",
        "colab": {
          "base_uri": "https://localhost:8080/"
        },
        "outputId": "628eb851-ed82-4cb4-d03e-cd67e39af2db"
      },
      "execution_count": null,
      "outputs": [
        {
          "output_type": "stream",
          "name": "stdout",
          "text": [
            "==============Test Case 1=============\n",
            "Invalid Index\n",
            "Sum of Nodes: 4\n",
            "\n"
          ]
        }
      ]
    },
    {
      "cell_type": "markdown",
      "source": [
        "...............Stack..............."
      ],
      "metadata": {
        "id": "DJ4lsc_pWE7K"
      }
    },
    {
      "cell_type": "code",
      "source": [
        "class Node:\n",
        "  def __init__(self,elem=None,next=None):\n",
        "    self.elem = elem\n",
        "    self.next = next\n",
        "\n",
        "class Stack:\n",
        "  def __init__(self):\n",
        "    self.__top = None\n",
        "\n",
        "  def push(self,elem):\n",
        "    nn = Node(elem,self.__top)\n",
        "    self.__top = nn\n",
        "\n",
        "  def pop(self):\n",
        "    if self.__top == None:\n",
        "      #print('Stack Underflow')\n",
        "      return None\n",
        "    e = self.__top\n",
        "    self.__top = self.__top.next\n",
        "    return e.elem\n",
        "\n",
        "  def peek(self):\n",
        "    if self.__top == None:\n",
        "      #print('Stack Underflow')\n",
        "      return None\n",
        "    return self.__top.elem\n",
        "\n",
        "  def isEmpty(self):\n",
        "    return self.__top == None\n",
        "\n",
        "#You can run this driver code cell to understand the methods of Stack class\n",
        "st = Stack()\n",
        "st.push(4)\n",
        "st.push(3)\n",
        "st.push(5)\n",
        "st.push(1)\n",
        "st.push(9)\n",
        "\n",
        "print('Peeked Element: ',st.peek())\n",
        "print('Popped Element: ',st.pop())\n",
        "print('Popped Element: ',st.pop())\n",
        "print('Popped Element: ',st.pop())\n",
        "print('Peeked Element: ',st.peek())\n",
        "print('Popped Element: ',st.pop())\n",
        "print('Popped Element: ',st.pop())\n",
        "print('Peeked Element: ',st.peek())\n",
        "print('Popped Element: ',st.pop())\n",
        "print(st.isEmpty())\n",
        "\n",
        "def print_stack(st):\n",
        "  if st.isEmpty():\n",
        "    return\n",
        "  p = st.pop()\n",
        "  print('|',p,end=' ')\n",
        "  if p<10:\n",
        "    print(' |')\n",
        "  else:\n",
        "    print('|')\n",
        "  #print('------')\n",
        "  print_stack(st)\n",
        "  st.push(p)\n",
        "\n",
        "# st = Stack()\n",
        "# st.push(4)\n",
        "# st.push(3)\n",
        "# st.push(5)\n",
        "# st.push(1)\n",
        "# st.push(9)\n",
        "# print_stack(st)\n",
        "# print('------')"
      ],
      "metadata": {
        "id": "qphIkKhSWEKV",
        "colab": {
          "base_uri": "https://localhost:8080/"
        },
        "outputId": "915af21a-9e62-4c78-806e-361d7110ad63"
      },
      "execution_count": null,
      "outputs": [
        {
          "output_type": "stream",
          "name": "stdout",
          "text": [
            "Peeked Element:  9\n",
            "Popped Element:  9\n",
            "Popped Element:  1\n",
            "Popped Element:  5\n",
            "Peeked Element:  3\n",
            "Popped Element:  3\n",
            "Popped Element:  4\n",
            "Peeked Element:  None\n",
            "Popped Element:  None\n",
            "True\n"
          ]
        }
      ]
    },
    {
      "cell_type": "markdown",
      "source": [
        "Task 1"
      ],
      "metadata": {
        "id": "E65RF1_pWZLx"
      }
    },
    {
      "cell_type": "code",
      "source": [
        "def diamond_count(stack,string):\n",
        "  #TO DO\n",
        "  num_diamonds=0\n",
        "  index=0\n",
        "  while index < len(string):\n",
        "    if string[index]==\"<\":\n",
        "      stack.push(string[index])\n",
        "    elif string[index]==\">\":\n",
        "      if stack.peek()==\"<\":\n",
        "        stack.pop()\n",
        "        num_diamonds+=1\n",
        "    index+=1\n",
        "  return num_diamonds\n",
        "\n",
        "print('Test 01')\n",
        "stack = Stack()\n",
        "string = '<..><.<..>> '\n",
        "returned_value = diamond_count(stack,string)\n",
        "print(f'Number of Diamonds: {returned_value}') #This should print 3\n",
        "\n",
        "print('-----------------------------------------')\n",
        "\n",
        "print('Test 02')\n",
        "stack = Stack()\n",
        "string = '<<<..<......<<<<....>'\n",
        "returned_value = diamond_count(stack,string)\n",
        "print(f'Number of Diamonds: {returned_value}') #This should print 1\n",
        "print('-----------------------------------------')\n",
        "\n",
        "print('Test 03')\n",
        "stack = Stack()\n",
        "string = '>>><...<<..>>...>...>>>'\n",
        "returned_value = diamond_count(stack,string)\n",
        "print(f'Number of Diamonds: {returned_value}') #This should print 3\n",
        "print('-----------------------------------------')"
      ],
      "metadata": {
        "id": "hUyVKzloWYsx",
        "colab": {
          "base_uri": "https://localhost:8080/"
        },
        "outputId": "eceb702e-d487-4c6f-f2bd-58bdbd5526b7"
      },
      "execution_count": null,
      "outputs": [
        {
          "output_type": "stream",
          "name": "stdout",
          "text": [
            "Test 01\n",
            "Number of Diamonds: 3\n",
            "-----------------------------------------\n",
            "Test 02\n",
            "Number of Diamonds: 1\n",
            "-----------------------------------------\n",
            "Test 03\n",
            "Number of Diamonds: 3\n",
            "-----------------------------------------\n"
          ]
        }
      ]
    },
    {
      "cell_type": "markdown",
      "source": [
        "Task 2"
      ],
      "metadata": {
        "id": "_Lm8OxqNWv2R"
      }
    },
    {
      "cell_type": "code",
      "source": [
        "def remove_block(stack, n):\n",
        "  #TO DO\n",
        "  st1=Stack()\n",
        "  count=0\n",
        "  for i in range(n+1):\n",
        "    if count==n:\n",
        "      y=st1.pop()\n",
        "    else:\n",
        "      x=stack.pop()\n",
        "      st1.push(x)\n",
        "    count+=1\n",
        "  for j in range(n-1):\n",
        "    m=st1.pop()\n",
        "    stack.push(m)\n",
        "\n",
        "print('Test 01')\n",
        "st = Stack()\n",
        "st.push(4)\n",
        "st.push(19)\n",
        "st.push(23)\n",
        "st.push(17)\n",
        "st.push(5)\n",
        "print('Stack:')\n",
        "print_stack(st)\n",
        "print('------')\n",
        "remove_block(st,2)\n",
        "print('After Removal')\n",
        "print_stack(st)\n",
        "print('------')\n",
        "\n",
        "print()\n",
        "print('======================================')\n",
        "print()\n",
        "\n",
        "print('Test 02')\n",
        "st = Stack()\n",
        "st.push(73)\n",
        "st.push(85)\n",
        "st.push(15)\n",
        "st.push(41)\n",
        "print('Stack:')\n",
        "print_stack(st)\n",
        "print('------')\n",
        "remove_block(st,3)\n",
        "print('After Removal')\n",
        "print_stack(st)\n",
        "print('------')\n",
        "\n",
        "print()\n",
        "print('======================================')\n"
      ],
      "metadata": {
        "id": "-dR1EMOxWuUW",
        "colab": {
          "base_uri": "https://localhost:8080/"
        },
        "outputId": "ed897786-0bf9-4fd8-8b2b-0716031ab77a"
      },
      "execution_count": null,
      "outputs": [
        {
          "output_type": "stream",
          "name": "stdout",
          "text": [
            "Test 01\n",
            "Stack:\n",
            "| 5  |\n",
            "| 17 |\n",
            "| 23 |\n",
            "| 19 |\n",
            "| 4  |\n",
            "------\n",
            "After Removal\n",
            "| 5  |\n",
            "| 23 |\n",
            "| 19 |\n",
            "| 4  |\n",
            "------\n",
            "\n",
            "======================================\n",
            "\n",
            "Test 02\n",
            "Stack:\n",
            "| 41 |\n",
            "| 15 |\n",
            "| 85 |\n",
            "| 73 |\n",
            "------\n",
            "After Removal\n",
            "| 41 |\n",
            "| 15 |\n",
            "| 73 |\n",
            "------\n",
            "\n",
            "======================================\n"
          ]
        }
      ]
    },
    {
      "cell_type": "markdown",
      "source": [
        "Task 3"
      ],
      "metadata": {
        "id": "_fTaGJNsW4g8"
      }
    },
    {
      "cell_type": "code",
      "source": [
        "def conditional_reverse(stack):\n",
        "  #To Do\n",
        "  con_rev_stack= Stack()\n",
        "  while stack.isEmpty()!=True:\n",
        "    poped_elem=stack.pop()\n",
        "    if con_rev_stack.peek()!=poped_elem:\n",
        "      con_rev_stack.push(poped_elem)\n",
        "  return con_rev_stack\n",
        "\n",
        "print('Test 01')\n",
        "st=Stack()\n",
        "st.push(10)\n",
        "st.push(10)\n",
        "st.push(20)\n",
        "st.push(20)\n",
        "st.push(30)\n",
        "st.push(10)\n",
        "st.push(50)\n",
        "print('Stack:')\n",
        "print_stack(st)\n",
        "print('------')\n",
        "reversed_stack=conditional_reverse(st)\n",
        "print('Conditional Reversed Stack:')\n",
        "print_stack(reversed_stack) # This stack contains 50, 10, 30, 20, 10 in this order whereas top element should be 10\n",
        "print('------')"
      ],
      "metadata": {
        "id": "7cUJTgkRWyDh",
        "colab": {
          "base_uri": "https://localhost:8080/"
        },
        "outputId": "12c98b93-ba98-449a-d54d-237995f691d9"
      },
      "execution_count": null,
      "outputs": [
        {
          "output_type": "stream",
          "name": "stdout",
          "text": [
            "Test 01\n",
            "Stack:\n",
            "| 50 |\n",
            "| 10 |\n",
            "| 30 |\n",
            "| 20 |\n",
            "| 20 |\n",
            "| 10 |\n",
            "| 10 |\n",
            "------\n",
            "Conditional Reversed Stack:\n",
            "| 10 |\n",
            "| 20 |\n",
            "| 30 |\n",
            "| 10 |\n",
            "| 50 |\n",
            "------\n"
          ]
        }
      ]
    },
    {
      "cell_type": "markdown",
      "source": [
        "...............Recursion...................."
      ],
      "metadata": {
        "id": "cbb0XHtcZbTq"
      }
    },
    {
      "cell_type": "code",
      "source": [
        "#Run this cell\n",
        "class Node:\n",
        "  def __init__(self, elem, next = None):\n",
        "    self.elem = elem\n",
        "    self.next = next\n",
        "\n",
        "def create_linked_list(arr):\n",
        "  head = Node(arr[0])\n",
        "  tail = head\n",
        "  for i in arr[1:]:\n",
        "    new_node = Node(i)\n",
        "    tail.next = new_node\n",
        "    tail = new_node\n",
        "  return head"
      ],
      "metadata": {
        "id": "vjPBvTh8Zam6"
      },
      "execution_count": null,
      "outputs": []
    },
    {
      "cell_type": "code",
      "source": [
        "# 1(a)\n",
        "def recursive_sum(arr):\n",
        "  #To Do\n",
        "  if len(arr)==0:\n",
        "    return 0\n",
        "  else:\n",
        "    if arr[0]%2==0 and arr[0]>0:\n",
        "      return arr[0]+ recursive_sum(arr[1:])\n",
        "    else:\n",
        "      return recursive_sum(arr[1:])\n",
        "\n",
        "arr1 = np.array([10,34,-8,1,5,6])\n",
        "# arr1= np.array([10])\n",
        "returned_value = recursive_sum(arr1)\n",
        "print(f'Sum of even positive elements of an array: {returned_value}') # This should print 50\n"
      ],
      "metadata": {
        "colab": {
          "base_uri": "https://localhost:8080/"
        },
        "id": "RVFd_HuwagJ6",
        "outputId": "7cf78611-d5ed-419c-f73f-5e32450fd49c"
      },
      "execution_count": null,
      "outputs": [
        {
          "output_type": "stream",
          "name": "stdout",
          "text": [
            "Sum of even positive elements of an array: 50\n"
          ]
        }
      ]
    },
    {
      "cell_type": "code",
      "source": [
        "# 1(a)\n",
        "# def recursive_sum_helper(node):\n",
        "\n",
        "#     if node is None:\n",
        "#         return 0\n",
        "\n",
        "#     elif node.elem > 0 and node.elem % 2 == 0:\n",
        "\n",
        "#         return node.elem + recursive_sum_helper(node.next)\n",
        "#     else:\n",
        "#         return recursive_sum_helper(node.next)\n",
        "\n",
        "# def recursive_sum(arr):\n",
        "\n",
        "#     head = create_linked_list(arr)\n",
        "\n",
        "#     return recursive_sum_helper(head)\n",
        "\n",
        "# arr1 = [10, 34, -8, 1, 5, 6]\n",
        "# returned_value = recursive_sum(arr1)\n",
        "# print(f'Sum of even positive elements of the array using linked list: {returned_value}')  # This should print 50\n"
      ],
      "metadata": {
        "id": "XP98Ykx1apjP"
      },
      "execution_count": null,
      "outputs": []
    },
    {
      "cell_type": "code",
      "source": [
        "# 1(b)\n",
        "def recursive_multiply(head):\n",
        "  if head==None:\n",
        "    return 1\n",
        "  else:\n",
        "    if head.elem%2 != 0 and head.elem >0:\n",
        "      return head.elem * recursive_multiply(head.next)\n",
        "    else:\n",
        "      return recursive_multiply(head.next)\n",
        "\n",
        "arr1 = np.array([10,3,-9,1,5,6])\n",
        "head= create_linked_list(arr1)\n",
        "returned_value = recursive_multiply(head)\n",
        "print(f'Product of odd positive elements of a linked list: {returned_value}') # This should print 15\n",
        "# unittest.output_test(returned_value, 15)"
      ],
      "metadata": {
        "colab": {
          "base_uri": "https://localhost:8080/"
        },
        "id": "2LFJ-Tsba4go",
        "outputId": "876d1034-9d20-4198-d2f6-8bd009e8bc58"
      },
      "execution_count": null,
      "outputs": [
        {
          "output_type": "stream",
          "name": "stdout",
          "text": [
            "Product of odd positive elements of a linked list: 15\n"
          ]
        }
      ]
    },
    {
      "cell_type": "code",
      "source": [
        "#c)\n",
        "def nCr(n,r):\n",
        "    if n==r or r==0:\n",
        "        return 1\n",
        "    else:\n",
        "        return nCr(n-1,r-1)+nCr(n-1,r)\n",
        "\n",
        "print('========1========')\n",
        "returned_value = nCr(9,6)\n",
        "print(f'9C6: {returned_value}') # This should print 84\n",
        "# unittest.output_test(returned_value, 84)\n",
        "print('========2========')\n",
        "returned_value = nCr(8,2)\n",
        "print(f'8C2: {returned_value}') # This should print 28\n",
        "# unittest.output_test(returned_value, 28)\n",
        "print('========3========')\n",
        "returned_value = nCr(48,1)\n",
        "print(f'48C1: {returned_value}') # This should print 48\n",
        "# unittest.output_test(returned_value, 48)"
      ],
      "metadata": {
        "colab": {
          "base_uri": "https://localhost:8080/"
        },
        "id": "JWmg73RbbE3r",
        "outputId": "50be4e67-edd6-4989-93b4-7679fbe8d2d2"
      },
      "execution_count": null,
      "outputs": [
        {
          "output_type": "stream",
          "name": "stdout",
          "text": [
            "========1========\n",
            "9C6: 84\n",
            "========2========\n",
            "8C2: 28\n",
            "========3========\n",
            "48C1: 48\n"
          ]
        }
      ]
    },
    {
      "cell_type": "code",
      "source": [
        "# 1(d)\n",
        "def count_digit_recursive(num):\n",
        "    updated_num = num//10\n",
        "    if  updated_num == 0:\n",
        "        return 1\n",
        "    else:\n",
        "        return 1 + count_digit_recursive(num//10)\n",
        "\n",
        "returned_value = count_digit_recursive(7508)\n",
        "print(f'Number of Digits: {returned_value}') # This should print 4\n",
        "# unittest.output_test(returned_value, 4)"
      ],
      "metadata": {
        "colab": {
          "base_uri": "https://localhost:8080/"
        },
        "id": "DcVxMBaYbJd4",
        "outputId": "7943d097-adb6-4ca2-e80d-c93e5e921107"
      },
      "execution_count": null,
      "outputs": [
        {
          "output_type": "stream",
          "name": "stdout",
          "text": [
            "Number of Digits: 4\n"
          ]
        }
      ]
    },
    {
      "cell_type": "code",
      "source": [
        "# 1 (e)\n",
        "def check_prime_recursive(num,x=2):\n",
        "    if num%x == 0:\n",
        "        return False\n",
        "    else:\n",
        "        if num<2:\n",
        "            return False\n",
        "        elif x**2>num:\n",
        "            return True\n",
        "    return check_prime_recursive(num,x+1)\n",
        "\n",
        "print('========1========')\n",
        "returned_value = check_prime_recursive(79)\n",
        "print(f'Prime: {returned_value}') # This should print True\n",
        "# unittest.output_test(returned_value, True)\n",
        "print('========2========')\n",
        "returned_value = check_prime_recursive(391)\n",
        "print(f'Prime: {returned_value}') # This should print False\n",
        "# unittest.output_test(returned_value, False)"
      ],
      "metadata": {
        "colab": {
          "base_uri": "https://localhost:8080/"
        },
        "id": "m6MzEVnbbNQv",
        "outputId": "bf6b42fc-91c0-4d86-9cfe-c9ecac58c7c9"
      },
      "execution_count": null,
      "outputs": [
        {
          "output_type": "stream",
          "name": "stdout",
          "text": [
            "========1========\n",
            "Prime: True\n",
            "========2========\n",
            "Prime: False\n"
          ]
        }
      ]
    },
    {
      "cell_type": "code",
      "source": [
        "# def check_prime_recursive(num):\n",
        "\n",
        "#     def is_prime(n, divisor):\n",
        "#         if divisor == 1:\n",
        "#             return True\n",
        "#         if n % divisor == 0:\n",
        "#             return False\n",
        "#         return is_prime(n, divisor - 1)\n",
        "\n",
        "#     if num < 2:\n",
        "#         return False\n",
        "#     return is_prime(num, num - 1)\n",
        "\n",
        "# print('========1========')\n",
        "# returned_value = check_prime_recursive(79)\n",
        "# print(f'Prime: {returned_value}')  # This should print True\n",
        "# print('========2========')\n",
        "# returned_value = check_prime_recursive(391)\n",
        "# print(f'Prime: {returned_value}')  # This should print False"
      ],
      "metadata": {
        "colab": {
          "base_uri": "https://localhost:8080/"
        },
        "id": "S1x07jFrbWZH",
        "outputId": "b213afa3-efbe-4ebf-d4c8-d66bd9019487"
      },
      "execution_count": null,
      "outputs": [
        {
          "output_type": "stream",
          "name": "stdout",
          "text": [
            "========1========\n",
            "Prime: True\n",
            "========2========\n",
            "Prime: False\n"
          ]
        }
      ]
    },
    {
      "cell_type": "code",
      "source": [
        "# 1 (f)\n",
        "def recursive_print(head):\n",
        "    if head is not None:\n",
        "        # print(head.elem)\n",
        "        recursive_print(head.next)\n",
        "        print(head.elem,end=\" \")\n",
        "\n",
        "arr1 = np.array([10,20,30,40])\n",
        "head= create_linked_list(arr1)\n",
        "recursive_print(head) #This should print 40  30  20  10"
      ],
      "metadata": {
        "colab": {
          "base_uri": "https://localhost:8080/"
        },
        "id": "0vaOGPyDNShn",
        "outputId": "3b1da405-2020-4115-a2a3-0794a11c6923"
      },
      "execution_count": null,
      "outputs": [
        {
          "output_type": "stream",
          "name": "stdout",
          "text": [
            "40 30 20 10 "
          ]
        }
      ]
    },
    {
      "cell_type": "code",
      "source": [
        "# 2 (a)\n",
        "def dec_to_binary_recursive(n):\n",
        "  #To Do\n",
        "  if n==0:\n",
        "    return \"\"\n",
        "  else:\n",
        "    bin_fun = dec_to_binary_recursive(n//2)\n",
        "    #return bin_fun + str(n%2)\n",
        "    return dec_to_binary_recursive(n//2) + str(n%2)\n",
        "\n",
        "\n",
        "print('========1========')\n",
        "returned_value = dec_to_binary_recursive(35)\n",
        "print(f'Binary Number: {returned_value}') # This should print 100011\n",
        "# unittest.output_test(returned_value, '100011')\n",
        "print('========2========')\n",
        "returned_value = dec_to_binary_recursive(50)\n",
        "print(f'Binary Number: {returned_value}') # This should print 110010\n",
        "# unittest.output_test(returned_value, '110010')"
      ],
      "metadata": {
        "colab": {
          "base_uri": "https://localhost:8080/"
        },
        "id": "s6Lkb3LpbzpK",
        "outputId": "9bbd15bb-619e-4a3e-d505-c3d73dce8603"
      },
      "execution_count": null,
      "outputs": [
        {
          "output_type": "stream",
          "name": "stdout",
          "text": [
            "========1========\n",
            "Binary Number: 100011\n",
            "========2========\n",
            "Binary Number: 110010\n"
          ]
        }
      ]
    },
    {
      "cell_type": "code",
      "source": [
        "# 2(b)\n",
        "#you may use this for decimal to hexadecimal mapping of 0-15\n",
        "def encoding(dec_number): #0<=dec_number<=15\n",
        "  return '0123456789ABCDEF'[dec_number]\n",
        "\n",
        "def dec_to_hexa_recursive(n):\n",
        "  #To Do\n",
        "  if n==0:\n",
        "    return \"\"\n",
        "  elif n>0:\n",
        "    return dec_to_hexa_recursive(n//16)+ encoding(n%16)\n",
        "\n",
        "\n",
        "print('Use of encoding function')\n",
        "decimal_number = 7\n",
        "print(f'Hexadecimal Number: {encoding(decimal_number)}')\n",
        "decimal_number = 13\n",
        "print(f'Hexadecimal Number: {encoding(decimal_number)}')\n",
        "\n",
        "print('========1========')\n",
        "returned_value = dec_to_hexa_recursive(1230)\n",
        "print(f'Hexadecimal Number: {returned_value}') # This should print 4CE\n",
        "# unittest.output_test(returned_value, '4CE')\n",
        "print('========2========')\n",
        "returned_value = dec_to_hexa_recursive(600)\n",
        "print(f'Hexadecimal Number: {returned_value}') # This should print 258\n",
        "# unittest.output_test(returned_value, '258')"
      ],
      "metadata": {
        "colab": {
          "base_uri": "https://localhost:8080/"
        },
        "id": "q9IjVzP4b1oX",
        "outputId": "dc4a7de7-5f4f-4be7-8b62-7a23bb9e626a"
      },
      "execution_count": null,
      "outputs": [
        {
          "output_type": "stream",
          "name": "stdout",
          "text": [
            "Use of encoding function\n",
            "Hexadecimal Number: 7\n",
            "Hexadecimal Number: D\n",
            "========1========\n",
            "Hexadecimal Number: 4CE\n",
            "========2========\n",
            "Hexadecimal Number: 258\n"
          ]
        }
      ]
    },
    {
      "cell_type": "code",
      "source": [
        "# 2(c)\n",
        "def print_alphabets_recursive(head):\n",
        "  #To Do\n",
        "    if head == None:\n",
        "      return\n",
        "    else:\n",
        "        if head.elem==\"a\" or head.elem==\"e\" or head.elem==\"i\" or head.elem==\"o\" or head.elem==\"u\":\n",
        "            print(head.elem,end=\" \")\n",
        "            print_alphabets_recursive(head.next)\n",
        "        else:\n",
        "            print_alphabets_recursive(head.next)\n",
        "            print(head.elem,end=\" \")\n",
        "\n",
        "head = create_linked_list(np.array(['b', 'e', 'a', 'u', 't', 'i', 'f', 'u', 'l']))\n",
        "print_alphabets_recursive(head) #This will print e a u i u l f t b"
      ],
      "metadata": {
        "colab": {
          "base_uri": "https://localhost:8080/"
        },
        "id": "jnK1W4OOb6AM",
        "outputId": "d1880b49-16a2-4c2c-ea83-a9d7c626efd0"
      },
      "execution_count": null,
      "outputs": [
        {
          "output_type": "stream",
          "name": "stdout",
          "text": [
            "e a u i u l f t b "
          ]
        }
      ]
    },
    {
      "cell_type": "code",
      "source": [
        "# 2(d)\n",
        "def harmonic_sum(n):\n",
        "    if n == 1:\n",
        "        return 1\n",
        "    else:\n",
        "        return ((-1)**(n+1))/n + harmonic_sum(n-1)\n",
        "\n",
        "print(f'Harmonic Sum(3): {harmonic_sum(3)}') #This should print 0.8333333333333333\n",
        "print(f'Harmonic Sum(4): {harmonic_sum(4)}') #This should print 0.5833333333333333"
      ],
      "metadata": {
        "colab": {
          "base_uri": "https://localhost:8080/"
        },
        "id": "bPE6nrydcCK4",
        "outputId": "73af9796-ea9d-4eb9-bb29-f3f9d1cf247f"
      },
      "execution_count": null,
      "outputs": [
        {
          "output_type": "stream",
          "name": "stdout",
          "text": [
            "Harmonic Sum(3): 0.8333333333333333\n",
            "Harmonic Sum(4): 0.5833333333333333\n"
          ]
        }
      ]
    },
    {
      "cell_type": "code",
      "source": [
        "# 3(a)\n",
        "def hoc_Builder(height):\n",
        "    if height == 0:\n",
        "        return 0\n",
        "    elif height == 1:\n",
        "        return 8\n",
        "    else:\n",
        "        return 5 + hoc_Builder(height-1)\n",
        "\n",
        "print(f'Cards Needed: {hoc_Builder(4)}') #This should print 23\n",
        "# unittest.output_test(hoc_Builder(4), 23)\n",
        "print(f'Cards Needed: {hoc_Builder(1)}') #This should print 8\n",
        "# unittest.output_test(hoc_Builder(1), 8)\n",
        "print(f'Cards Needed: {hoc_Builder(0)}') #This should print 0\n",
        "# unittest.output_test(hoc_Builder(0), 0)"
      ],
      "metadata": {
        "colab": {
          "base_uri": "https://localhost:8080/"
        },
        "id": "BBSb1wcieKw_",
        "outputId": "3abd2f3d-3905-4b87-bf71-00e717388549"
      },
      "execution_count": null,
      "outputs": [
        {
          "output_type": "stream",
          "name": "stdout",
          "text": [
            "Cards Needed: 23\n",
            "Cards Needed: 8\n",
            "Cards Needed: 0\n"
          ]
        }
      ]
    },
    {
      "cell_type": "code",
      "source": [
        "# 3(b)\n",
        "def reach_goal(n):\n",
        "    if n == 1:\n",
        "        return 0\n",
        "    else:\n",
        "        if n%2 == 0:\n",
        "           n = n - n//2\n",
        "        else:\n",
        "           n = n*3 + 1\n",
        "\n",
        "        return 1 + reach_goal(n)\n",
        "steps=reach_goal(21)\n",
        "print(f'Number of steps to reach the goal: {steps}')  #This should print 7\n",
        "# unittest.output_test(steps, 7)"
      ],
      "metadata": {
        "colab": {
          "base_uri": "https://localhost:8080/"
        },
        "id": "bW1mvpCxeO1_",
        "outputId": "dc42f02a-84d0-4fd2-fdee-53aad3519fcd"
      },
      "execution_count": null,
      "outputs": [
        {
          "output_type": "stream",
          "name": "stdout",
          "text": [
            "Number of steps to reach the goal: 7\n"
          ]
        }
      ]
    },
    {
      "cell_type": "code",
      "source": [
        "# 4(a)\n",
        "def row(r):\n",
        "    if r<0:\n",
        "        print(r,end=\" \")\n",
        "        return\n",
        "    print(r,end=\" \")\n",
        "    row(r-5)\n",
        "    print(r,end=\" \")\n",
        "def print_pattern(n,j=0):\n",
        "    if n<=0:\n",
        "        return\n",
        "    print()\n",
        "    print(\" \"*(j),end=\" \")\n",
        "    row(n)\n",
        "    print(\" \"*(j),end=\" \")\n",
        "    print_pattern(n-5,j+1)\n",
        "\n",
        "print('========1========')\n",
        "n = 16\n",
        "print_pattern(n)\n",
        "#This should print\n",
        "\n",
        "#16 11 6 1 -4 1 6 11 16\n",
        "#   11 6 1 -4 1 6 11\n",
        "#      6 1 -4 1 6\n",
        "#        1 -4 1\n",
        "print()\n",
        "print('========2========')\n",
        "n = 10\n",
        "print_pattern(n)\n",
        "#This should print\n",
        "\n",
        "#10 5 0 5 10\n",
        "#   5 0 5"
      ],
      "metadata": {
        "colab": {
          "base_uri": "https://localhost:8080/"
        },
        "id": "zUMk847xeVXa",
        "outputId": "1470ec10-4176-4a47-aad2-22a44415e77a"
      },
      "execution_count": null,
      "outputs": [
        {
          "output_type": "stream",
          "name": "stdout",
          "text": [
            "========1========\n",
            "\n",
            " 16 11 6 1 -4 1 6 11 16  \n",
            "  11 6 1 -4 1 6 11   \n",
            "   6 1 -4 1 6    \n",
            "    1 -4 1     \n",
            "========2========\n",
            "\n",
            " 10 5 0 -5 0 5 10  \n",
            "  5 0 -5 0 5   "
          ]
        }
      ]
    },
    {
      "cell_type": "code",
      "source": [
        "# 4(b)\n",
        "def merge_Lists(mid_list,final_list,combined_list):\n",
        "    # To Do\n",
        "    if not mid_list:\n",
        "      return final_list\n",
        "    elif not final_list:\n",
        "       return mid_list\n",
        "    if mid_list[-1] >= final_list[-1]:\n",
        "        combined_list.append(mid_list[-1])\n",
        "        combined_list += merge_Lists(mid_list[:len(mid_list)-1], final_list,[])\n",
        "    else:\n",
        "        combined_list.append(final_list[-1])\n",
        "        combined_list += merge_Lists(mid_list, final_list[:len(final_list)-1],[])\n",
        "    return combined_list\n",
        "\n",
        "mid=[5, 7, 14, 20, 24]\n",
        "final=[10, 12, 25]\n",
        "merged_list=merge_Lists(mid,final,[])\n",
        "print(merged_list)\n",
        "# This should print [25, 24, 20, 14, 12, 10, 7, 5]\n",
        "\n",
        "mid=[11, 20, 24, 28]\n",
        "final=[10, 12]\n",
        "merged_list=merge_Lists(mid,final,[])\n",
        "print(merged_list)\n",
        "# This should print [28, 24, 20, 12, 11, 10]\n"
      ],
      "metadata": {
        "colab": {
          "base_uri": "https://localhost:8080/"
        },
        "id": "2IJmN3idetZv",
        "outputId": "a0375045-531f-4f29-a26f-a751d3e8e306"
      },
      "execution_count": null,
      "outputs": [
        {
          "output_type": "stream",
          "name": "stdout",
          "text": [
            "[25, 24, 20, 14, 12, 10, 5, 7]\n",
            "[28, 24, 20, 12, 11, 10]\n"
          ]
        }
      ]
    },
    {
      "cell_type": "code",
      "source": [
        "#Task 5\n",
        "def flatten_List(given_list, output_list):\n",
        "    if not given_list:\n",
        "        return output_list\n",
        "    else:\n",
        "        if type(given_list[0]) == list:\n",
        "            flatten_List(given_list[0],output_list)\n",
        "        else:\n",
        "            output_list.append(given_list[0])\n",
        "    return flatten_List(given_list[1:],output_list)\n",
        "\n",
        "given_list = [1, [2, [3, [4], 5], 6], 7, 8, [9, [[10, 11], 12], 13], 14, [15, [16, [17]]]]\n",
        "output_list = flatten_List(given_list, []) # Initial empty list is sent for update\n",
        "print(output_list)\n",
        "#This should print [1, 2, 3, 4, 5, 6, 7, 8, 9, 10, 11, 12, 13, 14, 15, 16, 17]"
      ],
      "metadata": {
        "colab": {
          "base_uri": "https://localhost:8080/"
        },
        "id": "CJGdo4VrN-oh",
        "outputId": "39d92749-ac96-4f5c-bb73-982b4d0862d2"
      },
      "execution_count": null,
      "outputs": [
        {
          "output_type": "stream",
          "name": "stdout",
          "text": [
            "[1, 2, 3, 4, 5, 6, 7, 8, 9, 10, 11, 12, 13, 14, 15, 16, 17]\n"
          ]
        }
      ]
    },
    {
      "cell_type": "code",
      "source": [
        "# Task 6 (Bonus task)\n",
        "def number_of_ways(steps):\n",
        "    if steps < 0:\n",
        "        return 0\n",
        "    elif steps == 0:\n",
        "        return 1\n",
        "    return number_of_ways(steps-1)+number_of_ways(steps-2)+number_of_ways(steps-3)\n",
        "\n",
        "print(f'The number of ways you can climb the stairs: {number_of_ways(3)}') #This should print 4\n",
        "print(f'The number of ways you can climb the stairs: {number_of_ways(5)}') #This should print 13"
      ],
      "metadata": {
        "colab": {
          "base_uri": "https://localhost:8080/"
        },
        "id": "KK1J7RFEP68n",
        "outputId": "b731d8f9-6d05-4990-f8d5-0c504570bca2"
      },
      "execution_count": null,
      "outputs": [
        {
          "output_type": "stream",
          "name": "stdout",
          "text": [
            "The number of ways you can climb the stairs: 4\n",
            "The number of ways you can climb the stairs: 13\n"
          ]
        }
      ]
    },
    {
      "cell_type": "markdown",
      "source": [
        "................Tree........................."
      ],
      "metadata": {
        "id": "DGuKMArdE_R3"
      }
    },
    {
      "cell_type": "code",
      "source": [
        "class Node:\n",
        "    def __init__(self, elem):\n",
        "        self.elem = elem\n",
        "        self.child = []\n",
        "    def addChild(self, child_elem):\n",
        "        x = Node(child_elem)\n",
        "        self.child.append(x)\n",
        "        return x\n",
        "\n",
        "def print_Tree(root, s=\"==\"):\n",
        "    if root == []:\n",
        "        return\n",
        "    print(s, root.elem)\n",
        "    for c in root.child:\n",
        "        print_Tree(c, s+\"==\")\n",
        "\n",
        "root = Node(10)\n",
        "B = root.addChild(20)\n",
        "C = root.addChild(30)\n",
        "D = B.addChild(40)\n",
        "E = B.addChild(50)\n",
        "F = C.addChild(20)\n",
        "G = C.addChild(27)\n",
        "H = E.addChild(100)\n",
        "I = E.addChild(200)\n",
        "\n",
        "print_Tree(root)"
      ],
      "metadata": {
        "id": "8-06cXj8ImK_",
        "colab": {
          "base_uri": "https://localhost:8080/"
        },
        "outputId": "3d08abd5-dd9e-41b7-c714-164ae7ab928a"
      },
      "execution_count": null,
      "outputs": [
        {
          "output_type": "stream",
          "name": "stdout",
          "text": [
            "== 10\n",
            "==== 20\n",
            "====== 40\n",
            "====== 50\n",
            "======== 100\n",
            "======== 200\n",
            "==== 30\n",
            "====== 20\n",
            "====== 27\n"
          ]
        }
      ]
    },
    {
      "cell_type": "markdown",
      "source": [
        " ........................Lab: 6 ......................"
      ],
      "metadata": {
        "id": "uO5bdX-vj7F9"
      }
    },
    {
      "cell_type": "code",
      "source": [
        "class BTNode:\n",
        "    def __init__(self, elem):\n",
        "        self.elem = elem\n",
        "        self.right = None\n",
        "        self.left = None\n",
        "\n",
        "def inorder(root):\n",
        "    if root is None:\n",
        "        return\n",
        "    inorder(root.left)\n",
        "    print(root.elem, end=' ')\n",
        "    inorder(root.right)\n",
        "\n",
        "def tree_construction(arr, i=1):\n",
        "    if i >= len(arr) or arr[i] is None:\n",
        "        return None\n",
        "    p = BTNode(arr[i])\n",
        "    p.left = tree_construction(arr, 2 * i)\n",
        "    p.right = tree_construction(arr, 2 * i + 1)\n",
        "    return p"
      ],
      "metadata": {
        "id": "5TDEbppTiG11"
      },
      "execution_count": null,
      "outputs": []
    },
    {
      "cell_type": "markdown",
      "source": [
        "Task 1"
      ],
      "metadata": {
        "id": "PX2c9AAaYd3z"
      }
    },
    {
      "cell_type": "code",
      "source": [
        "def convert_mirror(root):\n",
        "\n",
        "    if root == None:\n",
        "        return None\n",
        "\n",
        "    convert_mirror(root.left)\n",
        "    convert_mirror(root.right)\n",
        "\n",
        "    root.left, root.right = root.right, root.left\n",
        "\n",
        "    return root\n",
        "\n",
        "\n",
        "\n",
        "# DRIVER CODE\n",
        "root = BTNode(10)\n",
        "n1 = BTNode(20)\n",
        "n2 = BTNode(30)\n",
        "n3 = BTNode(40)\n",
        "n4 = BTNode(60)\n",
        "\n",
        "root.left = n1\n",
        "root.right = n2\n",
        "\n",
        "n1.left = n3\n",
        "n1.right = n4\n",
        "\n",
        "print('Given Tree Inorder Traversal: ', end=' ')\n",
        "inorder(root)  # Given Tree Inorder Traversal: 40 20 60 10 30\n",
        "print()\n",
        "\n",
        "root2 = convert_mirror(root)\n",
        "print('Mirrored Tree Inorder Traversal: ', end=' ')\n",
        "inorder(root2)  # Mirrored Tree Inorder Traversal: 30 10 60 20 40"
      ],
      "metadata": {
        "id": "Q8GMNGHjI1AD",
        "colab": {
          "base_uri": "https://localhost:8080/"
        },
        "outputId": "87d3d438-7fb5-44d9-e192-67a5f4cc65d0"
      },
      "execution_count": null,
      "outputs": [
        {
          "output_type": "stream",
          "name": "stdout",
          "text": [
            "Given Tree Inorder Traversal:  40 20 60 10 30 \n",
            "Mirrored Tree Inorder Traversal:  30 10 60 20 40 "
          ]
        }
      ]
    },
    {
      "cell_type": "markdown",
      "source": [
        "Task 2"
      ],
      "metadata": {
        "id": "wjojlxwdkFKm"
      }
    },
    {
      "cell_type": "code",
      "source": [
        "def smallest_level(root, level={}, i=0):\n",
        "\n",
        "    if root == None:\n",
        "        return level\n",
        "\n",
        "    if i not in level or root.elem<level[i]:\n",
        "        level[i] = root.elem  #{0:4}\n",
        "\n",
        "    # Recur for left and right children\n",
        "    smallest_level(root.left, level, i + 1)\n",
        "\n",
        "    smallest_level(root.right, level, i + 1)\n",
        "\n",
        "    return level\n",
        "\n",
        "\n",
        "# DRIVER CODE\n",
        "root = tree_construction([None, 4, 9, 2, 3, -5, None, 7])\n",
        "print('Given Tree Inorder Traversal: ', end=' ')\n",
        "inorder(root)  # Given Tree Inorder Traversal:  3 9 -5 4 2 7\n",
        "print()\n",
        "\n",
        "print('Level Wise Smallest Value: ', end=' ')\n",
        "print(smallest_level(root))  # Level Wise Smallest Value: {0: 4, 1: 2, 2: -5}\n"
      ],
      "metadata": {
        "id": "9pAbAbvQU6Ir",
        "outputId": "8b2076d5-485d-4f13-a6f2-5e7958730b35",
        "colab": {
          "base_uri": "https://localhost:8080/"
        }
      },
      "execution_count": null,
      "outputs": [
        {
          "output_type": "stream",
          "name": "stdout",
          "text": [
            "Given Tree Inorder Traversal:  3 9 -5 4 2 7 \n",
            "Level Wise Smallest Value:  {0: 4, 1: 2, 2: -5}\n"
          ]
        }
      ]
    },
    {
      "cell_type": "markdown",
      "source": [
        "Task 4"
      ],
      "metadata": {
        "id": "qGNSMYGVkMYs"
      }
    },
    {
      "cell_type": "code",
      "source": [
        "def sumTree(root):\n",
        "\n",
        "    def helper(node, level, levelofsums):\n",
        "      if node is None:\n",
        "        return\n",
        "      if level not in levelofsums:\n",
        "        levelofsums[level] = 0\n",
        "      if level == 0:\n",
        "        levelofsums[level] += node.elem\n",
        "      else:\n",
        "        levelofsums[level] += node.elem % level\n",
        "\n",
        "      helper(node.left, level + 1, levelofsums)\n",
        "      helper(node.right, level + 1, levelofsums)\n",
        "\n",
        "    levelofsums = {}\n",
        "    helper(root, 0, levelofsums)\n",
        "\n",
        "    total_sum= sum(levelofsums.values())\n",
        "    return total_sum\n"
      ],
      "metadata": {
        "id": "mbyUtzT09L8E"
      },
      "execution_count": null,
      "outputs": []
    },
    {
      "cell_type": "code",
      "source": [
        "#Driver Code\n",
        "#Input 1\n",
        "root1 = BTNode(9)\n",
        "node2 = BTNode(4)\n",
        "node3 = BTNode(5)\n",
        "node4 = BTNode(18)\n",
        "node5 = BTNode(14)\n",
        "node6 = BTNode(3)\n",
        "node7 = BTNode(54)\n",
        "node8 = BTNode(12)\n",
        "node9 = BTNode(8)\n",
        "node10 = BTNode(91)\n",
        "node11 = BTNode(56)\n",
        "\n",
        "root1.left = node2\n",
        "root1.right = node3\n",
        "\n",
        "node2.left = node4\n",
        "\n",
        "node3.left = node5\n",
        "node3.right = node6\n",
        "\n",
        "node4.left = node7\n",
        "node4.right = node8\n",
        "\n",
        "node5.left = node9\n",
        "\n",
        "node8.left = node10\n",
        "node8.right = node11\n",
        "\n",
        "print(sumTree(root1))\n",
        "\n"
      ],
      "metadata": {
        "colab": {
          "base_uri": "https://localhost:8080/"
        },
        "id": "ptp40oiEdNhx",
        "outputId": "65365322-deea-4912-d23f-7c43974389a0"
      },
      "execution_count": null,
      "outputs": [
        {
          "output_type": "stream",
          "name": "stdout",
          "text": [
            "15\n"
          ]
        }
      ]
    },
    {
      "cell_type": "markdown",
      "source": [
        "Task 5"
      ],
      "metadata": {
        "id": "SZE1OVTQ0ErJ"
      }
    },
    {
      "cell_type": "code",
      "source": [
        "def swap_child(root, level, M):\n",
        "    if root == None:\n",
        "        return\n",
        "    if level < M:\n",
        "        root.left,root.right = root.right,root.left\n",
        "    swap_child(root.left,level+1,M)\n",
        "    swap_child(root.right,level+1,M)\n",
        "    return root\n",
        "\n",
        "root = BTNode('A')\n",
        "root.left = BTNode('B')\n",
        "root.right = BTNode('C')\n",
        "root.left.left = BTNode('D')\n",
        "root.left.right = BTNode('E')\n",
        "root.left.left.left = BTNode('G')\n",
        "root.left.left.right = BTNode('H')\n",
        "root.left.right.left = BTNode('I')\n",
        "root.right.right = BTNode('F')\n",
        "root.right.right.left = BTNode('J')\n",
        "\n",
        "print('Given Tree Inorder Traversal: ', end = ' ')\n",
        "inorder(root)   #Given Tree Inorder Traversal: G D H B I E A C J F\n",
        "print()\n",
        "\n",
        "root2 = swap_child(root, 0, 2)\n",
        "print('Swapped Tree Inorder Traversal: ', end = ' ')\n",
        "inorder(root2)  #Swapped Tree Inorder Traversal: J F C A I E B G D H"
      ],
      "metadata": {
        "colab": {
          "base_uri": "https://localhost:8080/"
        },
        "id": "tn2mu4sT4Q16",
        "outputId": "2db4879e-572a-42fd-9d34-1c51847f8bb1"
      },
      "execution_count": null,
      "outputs": [
        {
          "output_type": "stream",
          "name": "stdout",
          "text": [
            "Given Tree Inorder Traversal:  G D H B I E A C J F \n",
            "Swapped Tree Inorder Traversal:  J F C A I E B G D H "
          ]
        }
      ]
    },
    {
      "cell_type": "markdown",
      "source": [
        "Task 6"
      ],
      "metadata": {
        "id": "BHHcFPLSGCSQ"
      }
    },
    {
      "cell_type": "code",
      "source": [
        "def sumtree(node):\n",
        "  if node==None:\n",
        "    return 0\n",
        "  return node.elem + sumtree(node.left) + sumtree(node.right)\n",
        "\n",
        "def subtract_summation(root):\n",
        "    if root is None:\n",
        "        return 0\n",
        "    left_subtree= sumtree(root.left)\n",
        "    right_subtree= sumtree(root.right)\n",
        "    return left_subtree- right_subtree\n",
        "\n",
        "\n",
        "#Driver Code\n",
        "root=BTNode(71)\n",
        "#Write other nodes by yourself from the given tree of Doc File\n",
        "root.left = BTNode(27)\n",
        "root.right = BTNode(62)\n",
        "root.left.left = BTNode(80)\n",
        "root.left.right = BTNode(75)\n",
        "root.left.left.left = BTNode(87)\n",
        "root.left.left.right = BTNode(56)\n",
        "root.right.left = BTNode(41)\n",
        "root.right.right = BTNode(3)\n",
        "root.right.right.left = BTNode(19)\n",
        "root.right.right.right = BTNode(89)\n",
        "\n",
        "print(subtract_summation(root)) #This should print 111"
      ],
      "metadata": {
        "colab": {
          "base_uri": "https://localhost:8080/"
        },
        "id": "MNsFvqk8GBsF",
        "outputId": "a1c240c3-0e25-4584-f066-dd754f5df468"
      },
      "execution_count": null,
      "outputs": [
        {
          "output_type": "stream",
          "name": "stdout",
          "text": [
            "111\n"
          ]
        }
      ]
    },
    {
      "cell_type": "markdown",
      "source": [
        "Bonus Task"
      ],
      "metadata": {
        "id": "DzWYgbdi9yOI"
      }
    },
    {
      "cell_type": "code",
      "source": [
        "# def level_sum_helper(node,level):\n",
        "#   if node==None:\n",
        "#     return 0\n",
        "\n",
        "#   if level%2==0:\n",
        "#     total=-node.elem\n",
        "#   else:\n",
        "#     total=node.elem\n",
        "\n",
        "#   left = level_sum_helper(node.left,level+1)\n",
        "#   right= level_sum_helper(node.right,level+1)\n",
        "\n",
        "#   return total+left+right\n",
        "\n",
        "# def level_sum(root):\n",
        "#   return level_sum_helper(root,0)\n",
        "\n",
        "def level_sum(root,level=0):\n",
        "\n",
        "  if root==None:\n",
        "    return 0\n",
        "  if level%2==0:\n",
        "    total=-root.elem\n",
        "  else:\n",
        "    total=root.elem\n",
        "\n",
        "  return total + level_sum(root.left,level+1) + level_sum(root.right,level+1)\n",
        "\n",
        "\n",
        "#DRIVER CODE\n",
        "root = BTNode(1)\n",
        "n2 = BTNode(2)\n",
        "n3 = BTNode(3)\n",
        "n4 = BTNode(4)\n",
        "n5 = BTNode(5)\n",
        "n6 = BTNode(6)\n",
        "n7 = BTNode(7)\n",
        "n8 = BTNode(8)\n",
        "root.left = n2\n",
        "root.right = n3\n",
        "\n",
        "n2.left = n4\n",
        "n3.left = n5\n",
        "n3.right = n6\n",
        "\n",
        "n5.left = n7\n",
        "n5.right = n8\n",
        "\n",
        "\n",
        "print(level_sum(root)) #This should print 4"
      ],
      "metadata": {
        "colab": {
          "base_uri": "https://localhost:8080/"
        },
        "id": "JxbRwXhAzx2E",
        "outputId": "a77f5fc1-9f0b-43a1-d41a-2c47348f72a0"
      },
      "execution_count": null,
      "outputs": [
        {
          "output_type": "stream",
          "name": "stdout",
          "text": [
            "4\n"
          ]
        }
      ]
    },
    {
      "cell_type": "code",
      "source": [
        "def checksum(root, target):\n",
        "\n",
        "    if root==None:\n",
        "        return False\n",
        "\n",
        "    target -= root.elem\n",
        "\n",
        "    if  root.left==None and root.right==None:\n",
        "        return target == 0\n",
        "\n",
        "    return checksum(root.left, target) or checksum(root.right, target)\n",
        "\n",
        "root = tree_construction([None, 1, 4, 3, 5, None, 5,10])\n",
        "print(checksum(root, 26))\n",
        "print(checksum(root, 10))\n",
        "print(checksum(root, 14))\n",
        "print(checksum(root, 9))"
      ],
      "metadata": {
        "colab": {
          "base_uri": "https://localhost:8080/"
        },
        "id": "LVvUXMjzY4Im",
        "outputId": "9b80b728-dfb1-440d-ec76-6ee1e9b35e0b"
      },
      "execution_count": null,
      "outputs": [
        {
          "output_type": "stream",
          "name": "stdout",
          "text": [
            "False\n",
            "True\n",
            "True\n",
            "True\n"
          ]
        }
      ]
    },
    {
      "cell_type": "code",
      "source": [
        "#5.8\n",
        "def identical_tree(a,b):\n",
        "\n",
        "  if a==None and b==None:\n",
        "    return True\n",
        "\n",
        "  if a!=None and b!=None:\n",
        "    if a.elem==b.elem:\n",
        "      return True and identical_tree(a.left,b.left) and identical_tree(a.right,b.right)\n",
        "\n",
        "  return False\n",
        "\n",
        "\n",
        "\n",
        "a = tree_construction([None,1,2,3])\n",
        "print('Given Tree Inorder Traversal: ', end=' ')\n",
        "inorder(a)\n",
        "print()\n",
        "b = tree_construction([None,1,2,3])\n",
        "print('Given Tree Inorder Traversal: ', end=' ')\n",
        "inorder(b)\n",
        "print()\n",
        "print(identical_tree(a,b))\n",
        "\n",
        "c= tree_construction([None,1,3,2])\n",
        "print('Given Tree Inorder Traversal: ', end=' ')\n",
        "inorder(c)\n",
        "print()\n",
        "print(identical_tree(a,c))"
      ],
      "metadata": {
        "id": "j-vDT186JiQ7",
        "colab": {
          "base_uri": "https://localhost:8080/"
        },
        "outputId": "12a3085c-729e-4ecd-f969-23982a6ebeef"
      },
      "execution_count": null,
      "outputs": [
        {
          "output_type": "stream",
          "name": "stdout",
          "text": [
            "Given Tree Inorder Traversal:  2 1 3 \n",
            "Given Tree Inorder Traversal:  2 1 3 \n",
            "True\n",
            "Given Tree Inorder Traversal:  3 1 2 \n",
            "False\n"
          ]
        }
      ]
    },
    {
      "cell_type": "code",
      "source": [
        "#5.10\n",
        "def height(root):\n",
        "  if root==None:\n",
        "    return -1\n",
        "  return max(height(root.left),height(root.right))+1\n",
        "\n",
        "def balance_tree(root):\n",
        "  if root == None:\n",
        "    return True\n",
        "  left_subtree_height= height(root.left)\n",
        "  right_subtree_height= height(root.right)\n",
        "  if abs(left_subtree_height-right_subtree_height)<=1 and balance_tree(root.left) and balance_tree(root.right):\n",
        "    return True\n",
        "\n",
        "  return False\n",
        "\n",
        "\n",
        "\n",
        "root = tree_construction([None,1,2,None,None,3])\n",
        "print('Given Tree Inorder Traversal: ', end=' ')\n",
        "inorder(root)\n",
        "print()\n",
        "print(balance_tree(root))\n",
        "\n",
        "root = tree_construction([None,10,20,30,40,60,None,50,None,90])\n",
        "print('Given Tree Inorder Traversal: ', end=' ')\n",
        "inorder(root)\n",
        "print()\n",
        "print(balance_tree(root))"
      ],
      "metadata": {
        "colab": {
          "base_uri": "https://localhost:8080/"
        },
        "id": "PcmD_6_7RNKd",
        "outputId": "b537b3f2-b7c0-4f4e-b800-36848e167c49"
      },
      "execution_count": null,
      "outputs": [
        {
          "output_type": "stream",
          "name": "stdout",
          "text": [
            "Given Tree Inorder Traversal:  2 3 1 \n",
            "False\n",
            "Given Tree Inorder Traversal:  40 90 20 60 10 30 50 \n",
            "True\n"
          ]
        }
      ]
    },
    {
      "cell_type": "code",
      "source": [
        "#5.11\n",
        "def is_sum_tree(node):\n",
        "    # Base case: If node is None, return 1 (true)\n",
        "    if node is None:\n",
        "        return 1\n",
        "\n",
        "    # Leaf node: If it's a leaf node, return 1\n",
        "    if node.left is None and node.right is None:\n",
        "        return 1\n",
        "\n",
        "    # Initialize the sum of children\n",
        "    left_value = 0\n",
        "    right_value = 0\n",
        "\n",
        "    # Get the value of left child if it exists\n",
        "    if node.left!=None:\n",
        "        left_value = node.left.elem\n",
        "\n",
        "    # Get the value of right child if it exists\n",
        "    if node.right!=None:\n",
        "        right_value = node.right.elem\n",
        "\n",
        "    # Check if the node value equals the sum of its children\n",
        "    if node.elem == left_value + right_value:\n",
        "        # Recursively check for left and right children\n",
        "        if is_sum_tree(node.left) and is_sum_tree(node.right):\n",
        "            return 1\n",
        "\n",
        "    # If any condition fails, return 0 (false)\n",
        "    return 0\n",
        "\n",
        "# Example usage:\n",
        "root = tree_construction([None,10,10,None])\n",
        "print(is_sum_tree(root))\n",
        "\n",
        "root= tree_construction([None,1,6,3,4,2,1,2])\n",
        "print(is_sum_tree(root))"
      ],
      "metadata": {
        "colab": {
          "base_uri": "https://localhost:8080/"
        },
        "id": "VwBKAwqRZqNI",
        "outputId": "5b1590f4-b190-45c1-a556-ff860c87e768"
      },
      "execution_count": null,
      "outputs": [
        {
          "output_type": "stream",
          "name": "stdout",
          "text": [
            "1\n",
            "0\n"
          ]
        }
      ]
    },
    {
      "cell_type": "code",
      "source": [
        "def helper(root,var):\n",
        "  if root==None:\n",
        "    return False\n",
        "  if root.elem in var:\n",
        "    return True\n",
        "  elif root.elem not in var:\n",
        "    var.add(root.elem)\n",
        "  return helper(root.left,var) or helper(root.right,var)\n",
        "\n",
        "def check_dup(root):\n",
        "  var=set()\n",
        "  return helper(root,var)\n",
        "\n",
        "root= tree_construction([None,1,2,3,4,5,6,3])\n",
        "print(check_dup(root))\n",
        "root= tree_construction([None,1,2,3,4,5,6,10])\n",
        "print(check_dup(root))"
      ],
      "metadata": {
        "id": "ZnPaCCw-iRXI",
        "colab": {
          "base_uri": "https://localhost:8080/"
        },
        "outputId": "bf96351b-5be3-42e9-f38d-92b6ea939657"
      },
      "execution_count": null,
      "outputs": [
        {
          "output_type": "stream",
          "name": "stdout",
          "text": [
            "True\n",
            "False\n"
          ]
        }
      ]
    },
    {
      "cell_type": "code",
      "source": [
        "# #5.13\n",
        "# def check_dup(root,var=None):\n",
        "\n",
        "#   if var == None:\n",
        "#     var = set()\n",
        "#   if root==None:\n",
        "#     return False\n",
        "#   if root.elem in var:\n",
        "#     return True\n",
        "#   elif root.elem not in var:\n",
        "#     var.add(root.elem)\n",
        "#   return check_dup(root.left,var) or check_dup(root.right,var)\n",
        "\n",
        "# root= tree_construction([None,1,2,3,4,5,6,3])\n",
        "# print(check_dup(root))\n",
        "# root= tree_construction([None,1,2,3,4,5,6,10])\n",
        "# print(check_dup(root))"
      ],
      "metadata": {
        "colab": {
          "base_uri": "https://localhost:8080/"
        },
        "id": "B_q4CXYRjqNP",
        "outputId": "6d8d1747-14c1-49aa-e9b7-f224c53a7921"
      },
      "execution_count": null,
      "outputs": [
        {
          "output_type": "stream",
          "name": "stdout",
          "text": [
            "True\n",
            "False\n"
          ]
        }
      ]
    },
    {
      "cell_type": "code",
      "source": [
        "#5.14\n",
        "def kdistance(root,key):\n",
        "  if root == None or key<0:\n",
        "    return\n",
        "  if key==0:\n",
        "    print(root.elem,end=\" \")\n",
        "  kdistance(root.left,key-1)\n",
        "  kdistance(root.right,key-1)\n",
        "root= tree_construction([None,1,2,3,4,5,8])\n",
        "print(kdistance(root,2))\n",
        "# print(kdistance(root,4))"
      ],
      "metadata": {
        "colab": {
          "base_uri": "https://localhost:8080/"
        },
        "id": "rSXFRJKImYrX",
        "outputId": "00d011af-253d-4c6c-a77c-f0e91fe6892b"
      },
      "execution_count": null,
      "outputs": [
        {
          "output_type": "stream",
          "name": "stdout",
          "text": [
            "4 5 8 None\n"
          ]
        }
      ]
    },
    {
      "cell_type": "code",
      "source": [
        "#5.15\n",
        "def print_ancestors(root, key):\n",
        "\n",
        "    def find_ancestors(node):\n",
        "        if node is None:\n",
        "            return False\n",
        "        if node.elem == key:\n",
        "            return True\n",
        "        if find_ancestors(node.left) or find_ancestors(node.right):\n",
        "            print(node.elem, end=' ')\n",
        "            return True\n",
        "        return False\n",
        "    found = find_ancestors(root)\n",
        "    if not found:\n",
        "        print(\"Key not found in the tree.\")\n",
        "arr = [None, 1, 2, 3, 4, 5, 6, None,7,None]\n",
        "root = tree_construction(arr)\n",
        "print(\"Inorder Traversal of the Tree:\")\n",
        "inorder(root)\n",
        "print(\"\\nAncestors of the node with key 7:\")\n",
        "print_ancestors(root,7)\n",
        "# print_ancestors(root, 10)"
      ],
      "metadata": {
        "colab": {
          "base_uri": "https://localhost:8080/"
        },
        "id": "fwwOEOSqtv60",
        "outputId": "b2196d3d-a961-4f6b-aacf-ecf271cbd0bf"
      },
      "execution_count": null,
      "outputs": [
        {
          "output_type": "stream",
          "name": "stdout",
          "text": [
            "Inorder Traversal of the Tree:\n",
            "7 4 2 5 1 6 3 \n",
            "Ancestors of the node with key 7:\n",
            "4 2 1 "
          ]
        }
      ]
    },
    {
      "cell_type": "code",
      "source": [
        "#5.16\n",
        "def single_child(root):\n",
        "  if root==None:\n",
        "    return\n",
        "  if root.left!=None and root.right==None:\n",
        "    print(root.elem,end=\" \")\n",
        "  elif root.left==None and root.right!=None:\n",
        "    print(root.elem, end=\" \")\n",
        "  single_child(root.left)\n",
        "  single_child(root.right)\n",
        "\n",
        "arr = [None,2,3,5,None,10,8,6]\n",
        "root = tree_construction(arr)\n",
        "single_child(root)\n",
        "\n",
        "arr = [None,2,3,5,7,10,8,6]\n",
        "root = tree_construction(arr)\n",
        "single_child(root)"
      ],
      "metadata": {
        "colab": {
          "base_uri": "https://localhost:8080/"
        },
        "id": "GpCmRE0L81YH",
        "outputId": "64ad7d9f-2757-421d-d320-e171a1d3412b"
      },
      "execution_count": null,
      "outputs": [
        {
          "output_type": "stream",
          "name": "stdout",
          "text": [
            "3 "
          ]
        }
      ]
    },
    {
      "cell_type": "code",
      "source": [
        "#5.16 chatgpt\n",
        "def single_child(root):\n",
        "    found = [False]  # A list to track if a single child node was found\n",
        "\n",
        "    def helper(node):\n",
        "        if node is None:\n",
        "            return\n",
        "        if node.left is not None and node.right is None:\n",
        "            print(node.elem, end=\" \")\n",
        "            found[0] = True\n",
        "        elif node.left is None and node.right is not None:\n",
        "            print(node.elem, end=\" \")\n",
        "            found[0] = True\n",
        "        helper(node.left)\n",
        "        helper(node.right)\n",
        "\n",
        "    helper(root)\n",
        "    if not found[0]:\n",
        "        print(-1)\n",
        "\n",
        "# Test cases\n",
        "arr = [None, 2, 3, 5, None, 10, 8, 6]\n",
        "root = tree_construction(arr)\n",
        "single_child(root)  # Expected output: nodes with a single child or -1\n",
        "\n",
        "# arr = [None, 2, 3, 5, 7, 10, 8, 6]\n",
        "# root = tree_construction(arr)\n",
        "# single_child(root)  # Expected output: nodes with a single child or -1\n"
      ],
      "metadata": {
        "id": "zaLwX52VTKJ8",
        "colab": {
          "base_uri": "https://localhost:8080/"
        },
        "outputId": "1383726a-f1a8-4620-d946-0f3d7c657bb4"
      },
      "execution_count": null,
      "outputs": [
        {
          "output_type": "stream",
          "name": "stdout",
          "text": [
            "3 "
          ]
        }
      ]
    },
    {
      "cell_type": "code",
      "source": [
        "#5.17\n",
        "def skewed(root):\n",
        "  if root==None or (root.left==None and root.right==None):\n",
        "    return True\n",
        "  if root.left!=None and root.right!=None:\n",
        "    return False\n",
        "  if root.left!=None:\n",
        "    return skewed(root.left)\n",
        "  else:\n",
        "    return skewed(root.right)\n",
        "\n",
        "arr = [None,5,4,None,None,3,None,None,None,None,2,None]\n",
        "root = tree_construction(arr)\n",
        "print(skewed(root))\n",
        "arr = [None,5,4,None,None,3,None,None,None,None,2,4]\n",
        "root1 = tree_construction(arr)\n",
        "print(skewed(root1))"
      ],
      "metadata": {
        "colab": {
          "base_uri": "https://localhost:8080/"
        },
        "id": "sG4gJK7JYqoQ",
        "outputId": "d9dbbb51-09ea-4314-e47c-794b50fe4e5c"
      },
      "execution_count": null,
      "outputs": [
        {
          "output_type": "stream",
          "name": "stdout",
          "text": [
            "True\n",
            "False\n"
          ]
        }
      ]
    },
    {
      "cell_type": "code",
      "source": [
        "#5.18\n",
        "def min_depth(root):\n",
        "\n",
        "    if root is None:\n",
        "        return 0\n",
        "\n",
        "    if root.left is None and root.right is None:\n",
        "        return 1\n",
        "\n",
        "    if root.left is None:\n",
        "        return 1 + min_depth(root.right)\n",
        "\n",
        "    if root.right is None:\n",
        "        return 1 + min_depth(root.left)\n",
        "\n",
        "    return 1 + min(min_depth(root.left), min_depth(root.right))\n",
        "\n",
        "# Example usage:\n",
        "arr = [None, 1, 2, 3, 4, 5,None,None,7]\n",
        "root = tree_construction(arr)\n",
        "print(\"Minimum Depth:\", min_depth(root))  # Expected output: Minimum Depth: 2\n"
      ],
      "metadata": {
        "colab": {
          "base_uri": "https://localhost:8080/"
        },
        "id": "HWYuWZB6hzMz",
        "outputId": "38768b98-589e-4888-9f62-d4744923b4b7"
      },
      "execution_count": null,
      "outputs": [
        {
          "output_type": "stream",
          "name": "stdout",
          "text": [
            "Minimum Depth: 2\n"
          ]
        }
      ]
    },
    {
      "cell_type": "code",
      "source": [
        "def max_depth(root):\n",
        "    # Base case: if the root is None, the depth is 0\n",
        "    if root is None:\n",
        "        return 0\n",
        "\n",
        "    # If the current node is a leaf node, the depth is 1\n",
        "    if root.left is None and root.right is None:\n",
        "        return 1\n",
        "\n",
        "    # Recursively calculate the depth of the left and right subtrees\n",
        "    left_depth = max_depth(root.left)\n",
        "    right_depth = max_depth(root.right)\n",
        "\n",
        "    # Return the maximum of the two depths plus 1 (for the current node)\n",
        "    return 1 + max(left_depth, right_depth)\n",
        "\n",
        "# Example usage:\n",
        "arr = [None, 1, 2, 3, 4, 5, None, None, 7]  # 1-based indexing\n",
        "root = tree_construction(arr)\n",
        "print(\"Maximum Depth:\", max_depth(root))  # Expected output: Maximum Depth: 4\n"
      ],
      "metadata": {
        "colab": {
          "base_uri": "https://localhost:8080/"
        },
        "id": "y1lDGurUfvlC",
        "outputId": "386a5d30-778a-4c46-8da5-0f0e9413bfee"
      },
      "execution_count": null,
      "outputs": [
        {
          "output_type": "stream",
          "name": "stdout",
          "text": [
            "Maximum Depth: 4\n"
          ]
        }
      ]
    },
    {
      "cell_type": "code",
      "source": [
        "#5.19\n",
        "def full_nodes(root):\n",
        "  if root==None:\n",
        "    return\n",
        "  if root.left.elem!=None and root.right.elem!=None:\n",
        "    print(root.elem,end=' ')\n",
        "  full_nodes(root.left)\n",
        "  full_nodes(root.right)\n",
        "root= tree_construction([None,10,8,2,3,5,7,None])\n",
        "full_nodes(root)"
      ],
      "metadata": {
        "colab": {
          "base_uri": "https://localhost:8080/",
          "height": 498
        },
        "id": "n7NUF_Kqe1uq",
        "outputId": "ddbc2e34-d5bd-4655-dd98-72f3b9798e62"
      },
      "execution_count": null,
      "outputs": [
        {
          "output_type": "stream",
          "name": "stdout",
          "text": [
            "10 8 "
          ]
        },
        {
          "output_type": "error",
          "ename": "AttributeError",
          "evalue": "'NoneType' object has no attribute 'elem'",
          "traceback": [
            "\u001b[0;31m---------------------------------------------------------------------------\u001b[0m",
            "\u001b[0;31mAttributeError\u001b[0m                            Traceback (most recent call last)",
            "\u001b[0;32m<ipython-input-5-74157ed1c9e6>\u001b[0m in \u001b[0;36m<cell line: 0>\u001b[0;34m()\u001b[0m\n\u001b[1;32m      8\u001b[0m   \u001b[0mfull_nodes\u001b[0m\u001b[0;34m(\u001b[0m\u001b[0mroot\u001b[0m\u001b[0;34m.\u001b[0m\u001b[0mright\u001b[0m\u001b[0;34m)\u001b[0m\u001b[0;34m\u001b[0m\u001b[0;34m\u001b[0m\u001b[0m\n\u001b[1;32m      9\u001b[0m \u001b[0mroot\u001b[0m\u001b[0;34m=\u001b[0m \u001b[0mtree_construction\u001b[0m\u001b[0;34m(\u001b[0m\u001b[0;34m[\u001b[0m\u001b[0;32mNone\u001b[0m\u001b[0;34m,\u001b[0m\u001b[0;36m10\u001b[0m\u001b[0;34m,\u001b[0m\u001b[0;36m8\u001b[0m\u001b[0;34m,\u001b[0m\u001b[0;36m2\u001b[0m\u001b[0;34m,\u001b[0m\u001b[0;36m3\u001b[0m\u001b[0;34m,\u001b[0m\u001b[0;36m5\u001b[0m\u001b[0;34m,\u001b[0m\u001b[0;36m7\u001b[0m\u001b[0;34m,\u001b[0m\u001b[0;32mNone\u001b[0m\u001b[0;34m]\u001b[0m\u001b[0;34m)\u001b[0m\u001b[0;34m\u001b[0m\u001b[0;34m\u001b[0m\u001b[0m\n\u001b[0;32m---> 10\u001b[0;31m \u001b[0mfull_nodes\u001b[0m\u001b[0;34m(\u001b[0m\u001b[0mroot\u001b[0m\u001b[0;34m)\u001b[0m\u001b[0;34m\u001b[0m\u001b[0;34m\u001b[0m\u001b[0m\n\u001b[0m",
            "\u001b[0;32m<ipython-input-5-74157ed1c9e6>\u001b[0m in \u001b[0;36mfull_nodes\u001b[0;34m(root)\u001b[0m\n\u001b[1;32m      5\u001b[0m   \u001b[0;32mif\u001b[0m \u001b[0mroot\u001b[0m\u001b[0;34m.\u001b[0m\u001b[0mleft\u001b[0m\u001b[0;34m.\u001b[0m\u001b[0melem\u001b[0m\u001b[0;34m!=\u001b[0m\u001b[0;32mNone\u001b[0m \u001b[0;32mand\u001b[0m \u001b[0mroot\u001b[0m\u001b[0;34m.\u001b[0m\u001b[0mright\u001b[0m\u001b[0;34m.\u001b[0m\u001b[0melem\u001b[0m\u001b[0;34m!=\u001b[0m\u001b[0;32mNone\u001b[0m\u001b[0;34m:\u001b[0m\u001b[0;34m\u001b[0m\u001b[0;34m\u001b[0m\u001b[0m\n\u001b[1;32m      6\u001b[0m     \u001b[0mprint\u001b[0m\u001b[0;34m(\u001b[0m\u001b[0mroot\u001b[0m\u001b[0;34m.\u001b[0m\u001b[0melem\u001b[0m\u001b[0;34m,\u001b[0m\u001b[0mend\u001b[0m\u001b[0;34m=\u001b[0m\u001b[0;34m' '\u001b[0m\u001b[0;34m)\u001b[0m\u001b[0;34m\u001b[0m\u001b[0;34m\u001b[0m\u001b[0m\n\u001b[0;32m----> 7\u001b[0;31m   \u001b[0mfull_nodes\u001b[0m\u001b[0;34m(\u001b[0m\u001b[0mroot\u001b[0m\u001b[0;34m.\u001b[0m\u001b[0mleft\u001b[0m\u001b[0;34m)\u001b[0m\u001b[0;34m\u001b[0m\u001b[0;34m\u001b[0m\u001b[0m\n\u001b[0m\u001b[1;32m      8\u001b[0m   \u001b[0mfull_nodes\u001b[0m\u001b[0;34m(\u001b[0m\u001b[0mroot\u001b[0m\u001b[0;34m.\u001b[0m\u001b[0mright\u001b[0m\u001b[0;34m)\u001b[0m\u001b[0;34m\u001b[0m\u001b[0;34m\u001b[0m\u001b[0m\n\u001b[1;32m      9\u001b[0m \u001b[0mroot\u001b[0m\u001b[0;34m=\u001b[0m \u001b[0mtree_construction\u001b[0m\u001b[0;34m(\u001b[0m\u001b[0;34m[\u001b[0m\u001b[0;32mNone\u001b[0m\u001b[0;34m,\u001b[0m\u001b[0;36m10\u001b[0m\u001b[0;34m,\u001b[0m\u001b[0;36m8\u001b[0m\u001b[0;34m,\u001b[0m\u001b[0;36m2\u001b[0m\u001b[0;34m,\u001b[0m\u001b[0;36m3\u001b[0m\u001b[0;34m,\u001b[0m\u001b[0;36m5\u001b[0m\u001b[0;34m,\u001b[0m\u001b[0;36m7\u001b[0m\u001b[0;34m,\u001b[0m\u001b[0;32mNone\u001b[0m\u001b[0;34m]\u001b[0m\u001b[0;34m)\u001b[0m\u001b[0;34m\u001b[0m\u001b[0;34m\u001b[0m\u001b[0m\n",
            "\u001b[0;32m<ipython-input-5-74157ed1c9e6>\u001b[0m in \u001b[0;36mfull_nodes\u001b[0;34m(root)\u001b[0m\n\u001b[1;32m      5\u001b[0m   \u001b[0;32mif\u001b[0m \u001b[0mroot\u001b[0m\u001b[0;34m.\u001b[0m\u001b[0mleft\u001b[0m\u001b[0;34m.\u001b[0m\u001b[0melem\u001b[0m\u001b[0;34m!=\u001b[0m\u001b[0;32mNone\u001b[0m \u001b[0;32mand\u001b[0m \u001b[0mroot\u001b[0m\u001b[0;34m.\u001b[0m\u001b[0mright\u001b[0m\u001b[0;34m.\u001b[0m\u001b[0melem\u001b[0m\u001b[0;34m!=\u001b[0m\u001b[0;32mNone\u001b[0m\u001b[0;34m:\u001b[0m\u001b[0;34m\u001b[0m\u001b[0;34m\u001b[0m\u001b[0m\n\u001b[1;32m      6\u001b[0m     \u001b[0mprint\u001b[0m\u001b[0;34m(\u001b[0m\u001b[0mroot\u001b[0m\u001b[0;34m.\u001b[0m\u001b[0melem\u001b[0m\u001b[0;34m,\u001b[0m\u001b[0mend\u001b[0m\u001b[0;34m=\u001b[0m\u001b[0;34m' '\u001b[0m\u001b[0;34m)\u001b[0m\u001b[0;34m\u001b[0m\u001b[0;34m\u001b[0m\u001b[0m\n\u001b[0;32m----> 7\u001b[0;31m   \u001b[0mfull_nodes\u001b[0m\u001b[0;34m(\u001b[0m\u001b[0mroot\u001b[0m\u001b[0;34m.\u001b[0m\u001b[0mleft\u001b[0m\u001b[0;34m)\u001b[0m\u001b[0;34m\u001b[0m\u001b[0;34m\u001b[0m\u001b[0m\n\u001b[0m\u001b[1;32m      8\u001b[0m   \u001b[0mfull_nodes\u001b[0m\u001b[0;34m(\u001b[0m\u001b[0mroot\u001b[0m\u001b[0;34m.\u001b[0m\u001b[0mright\u001b[0m\u001b[0;34m)\u001b[0m\u001b[0;34m\u001b[0m\u001b[0;34m\u001b[0m\u001b[0m\n\u001b[1;32m      9\u001b[0m \u001b[0mroot\u001b[0m\u001b[0;34m=\u001b[0m \u001b[0mtree_construction\u001b[0m\u001b[0;34m(\u001b[0m\u001b[0;34m[\u001b[0m\u001b[0;32mNone\u001b[0m\u001b[0;34m,\u001b[0m\u001b[0;36m10\u001b[0m\u001b[0;34m,\u001b[0m\u001b[0;36m8\u001b[0m\u001b[0;34m,\u001b[0m\u001b[0;36m2\u001b[0m\u001b[0;34m,\u001b[0m\u001b[0;36m3\u001b[0m\u001b[0;34m,\u001b[0m\u001b[0;36m5\u001b[0m\u001b[0;34m,\u001b[0m\u001b[0;36m7\u001b[0m\u001b[0;34m,\u001b[0m\u001b[0;32mNone\u001b[0m\u001b[0;34m]\u001b[0m\u001b[0;34m)\u001b[0m\u001b[0;34m\u001b[0m\u001b[0;34m\u001b[0m\u001b[0m\n",
            "\u001b[0;32m<ipython-input-5-74157ed1c9e6>\u001b[0m in \u001b[0;36mfull_nodes\u001b[0;34m(root)\u001b[0m\n\u001b[1;32m      3\u001b[0m   \u001b[0;32mif\u001b[0m \u001b[0mroot\u001b[0m\u001b[0;34m==\u001b[0m\u001b[0;32mNone\u001b[0m\u001b[0;34m:\u001b[0m\u001b[0;34m\u001b[0m\u001b[0;34m\u001b[0m\u001b[0m\n\u001b[1;32m      4\u001b[0m     \u001b[0;32mreturn\u001b[0m\u001b[0;34m\u001b[0m\u001b[0;34m\u001b[0m\u001b[0m\n\u001b[0;32m----> 5\u001b[0;31m   \u001b[0;32mif\u001b[0m \u001b[0mroot\u001b[0m\u001b[0;34m.\u001b[0m\u001b[0mleft\u001b[0m\u001b[0;34m.\u001b[0m\u001b[0melem\u001b[0m\u001b[0;34m!=\u001b[0m\u001b[0;32mNone\u001b[0m \u001b[0;32mand\u001b[0m \u001b[0mroot\u001b[0m\u001b[0;34m.\u001b[0m\u001b[0mright\u001b[0m\u001b[0;34m.\u001b[0m\u001b[0melem\u001b[0m\u001b[0;34m!=\u001b[0m\u001b[0;32mNone\u001b[0m\u001b[0;34m:\u001b[0m\u001b[0;34m\u001b[0m\u001b[0;34m\u001b[0m\u001b[0m\n\u001b[0m\u001b[1;32m      6\u001b[0m     \u001b[0mprint\u001b[0m\u001b[0;34m(\u001b[0m\u001b[0mroot\u001b[0m\u001b[0;34m.\u001b[0m\u001b[0melem\u001b[0m\u001b[0;34m,\u001b[0m\u001b[0mend\u001b[0m\u001b[0;34m=\u001b[0m\u001b[0;34m' '\u001b[0m\u001b[0;34m)\u001b[0m\u001b[0;34m\u001b[0m\u001b[0;34m\u001b[0m\u001b[0m\n\u001b[1;32m      7\u001b[0m   \u001b[0mfull_nodes\u001b[0m\u001b[0;34m(\u001b[0m\u001b[0mroot\u001b[0m\u001b[0;34m.\u001b[0m\u001b[0mleft\u001b[0m\u001b[0;34m)\u001b[0m\u001b[0;34m\u001b[0m\u001b[0;34m\u001b[0m\u001b[0m\n",
            "\u001b[0;31mAttributeError\u001b[0m: 'NoneType' object has no attribute 'elem'"
          ]
        }
      ]
    },
    {
      "cell_type": "code",
      "source": [
        "class Node:\n",
        "    def __init__(self, elem):\n",
        "        self.elem = elem\n",
        "        self.next = None\n",
        "        self.prev = None\n",
        "\n",
        "def find_highest_two(head, highest=float('-inf'), second_highest=float('-inf')):\n",
        "\n",
        "    if head is None:\n",
        "        return highest, second_highest\n",
        "\n",
        "    if head.elem > highest:\n",
        "        second_highest = highest\n",
        "        highest = head.elem\n",
        "    elif head.elem > second_highest:\n",
        "        second_highest = head.elem\n",
        "\n",
        "    # Recur for the next node\n",
        "    return find_highest_two(head.next, highest, second_highest)\n",
        "\n",
        "def highest_sum(head):\n",
        "    highest,second_highest = find_highest_two(head)\n",
        "    return highest + second_highest\n",
        "\n",
        "# Creating a linked list from the array\n",
        "arr = [1, 2, 34 , 10, 11,100]\n",
        "head = Node(arr[0])\n",
        "current = head\n",
        "\n",
        "# Creating the linked list with prev and next pointers\n",
        "for i in range(1, len(arr)):\n",
        "    new_node = Node(arr[i])\n",
        "    current.next = new_node\n",
        "    new_node.prev = current\n",
        "    current = new_node\n",
        "\n",
        "# Call the function and print the result\n",
        "print(find_highest_two(head))"
      ],
      "metadata": {
        "colab": {
          "base_uri": "https://localhost:8080/"
        },
        "id": "5ofDtVW1p62r",
        "outputId": "ccda4602-3a9b-4a6b-9ce0-942bb5877041"
      },
      "execution_count": null,
      "outputs": [
        {
          "output_type": "stream",
          "name": "stdout",
          "text": [
            "(100, 34)\n"
          ]
        }
      ]
    },
    {
      "cell_type": "code",
      "source": [
        "def fib(n):\n",
        "  if n<=1:\n",
        "    return n\n",
        "  else:\n",
        "    return fib(n-1)+fib(n-2)\n",
        "\n",
        "res=fib(5)\n",
        "print(res)"
      ],
      "metadata": {
        "colab": {
          "base_uri": "https://localhost:8080/"
        },
        "id": "cpWHx2dKKOfd",
        "outputId": "e1d97d13-42f3-4e4a-c6f9-b8c9ebd4f39d"
      },
      "execution_count": null,
      "outputs": [
        {
          "output_type": "stream",
          "name": "stdout",
          "text": [
            "5\n"
          ]
        }
      ]
    },
    {
      "cell_type": "code",
      "source": [
        "\n",
        "class BTNode:\n",
        "    def __init__(self, elem):\n",
        "        self.elem = elem\n",
        "        self.right = None\n",
        "        self.left = None\n",
        "\n",
        "def is_symmetric_helper(left_subtree, right_subtree):\n",
        "    # If both subtrees are empty, they are symmetric\n",
        "    if left_subtree is None and right_subtree is None:\n",
        "        return True\n",
        "\n",
        "    # If one subtree is empty and the other is not, they are not symmetric\n",
        "    if left_subtree is None or right_subtree is None:\n",
        "        return False\n",
        "\n",
        "    # The two subtrees are symmetric if:\n",
        "    # 1. Their root elements are equal\n",
        "    # 2. The left subtree of the left tree is a mirror of the right subtree of the right tree\n",
        "    # 3. The right subtree of the left tree is a mirror of the left subtree of the right tree\n",
        "    return (\n",
        "        left_subtree.elem == right_subtree.elem and\n",
        "        is_symmetric_helper(left_subtree.left, right_subtree.right) and\n",
        "        is_symmetric_helper(left_subtree.right, right_subtree.left)\n",
        "    )\n",
        "\n",
        "def isSymmetric(root):\n",
        "    # A tree is symmetric if its left and right subtrees are mirrors of each other\n",
        "    if root is None:\n",
        "        return True\n",
        "    return is_symmetric_helper(root.left, root.right)\n",
        "\n",
        "# Example usage\n",
        "root = BTNode(1)\n",
        "root.left = BTNode(2)\n",
        "root.right = BTNode(2)\n",
        "root.left.left = BTNode(3)\n",
        "root.left.right = BTNode(4)\n",
        "root.right.left = BTNode(4)\n",
        "root.right.right = BTNode(3)\n",
        "\n",
        "print(isSymmetric(root))  # Should return True as this tree is symmetric"
      ],
      "metadata": {
        "colab": {
          "base_uri": "https://localhost:8080/"
        },
        "id": "uZIasvc_ZpHi",
        "outputId": "8b26d242-aac8-484e-a896-4aec23e6cf53"
      },
      "execution_count": null,
      "outputs": [
        {
          "output_type": "stream",
          "name": "stdout",
          "text": [
            "True\n"
          ]
        }
      ]
    }
  ]
}